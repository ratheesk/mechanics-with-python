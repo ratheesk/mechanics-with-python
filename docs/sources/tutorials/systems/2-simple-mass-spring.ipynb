{
  "cells": [
    {
      "cell_type": "code",
      "execution_count": null,
      "metadata": {
        "nbsphinx": "hidden"
      },
      "outputs": [],
      "source": [
        "# This is included for documentation purpose, not a part of this tutorial\n",
        "import plotly.io as pio\n",
        "pio.renderers.default = \"plotly_mimetype+notebook\""
      ]
    },
    {
      "cell_type": "markdown",
      "metadata": {},
      "source": [
        "# Coupled Spring Mass System"
      ]
    },
    {
      "cell_type": "markdown",
      "metadata": {},
      "source": [
        "> This Question and answer is refered from the ME211 learning materials of Faculty of Engineering, University of Peradeniya."
      ]
    },
    {
      "cell_type": "markdown",
      "metadata": {},
      "source": [
        "Consider the coupled spring mass system:\n",
        "\n",
        "![image.png](data:image/png;base64,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)"
      ]
    },
    {
      "cell_type": "markdown",
      "metadata": {},
      "source": [
        "## Solve ODE"
      ]
    },
    {
      "cell_type": "markdown",
      "metadata": {},
      "source": [
        "Isolating each of the masses and applying Newton's eaquations for each of them seperately we have:\n",
        "\n",
        "$\\begin{align}\n",
        "m\\ddot{x}_1&=-kx_1-k(x_1-x_2),\\\\\n",
        "m\\ddot{x}_2&=-kx_2-k(x_2-x_1)\n",
        "\\end{align}$\n",
        "\n",
        "Which can be written as:\n",
        "$\\begin{align}\n",
        "M\\ddot{X}+KX&=0\n",
        "\\end{align}$\n",
        "where\n",
        "$\\begin{align}\n",
        "X=\\begin{bmatrix}x_1\\\\x_2\\end{bmatrix},\\:\\:\\:\\:\n",
        "M=\\begin{bmatrix}m & 0\\\\0 & m\\end{bmatrix},\\:\\:\\:\\:\n",
        "K=\\begin{bmatrix}2k & -k\\\\ -k & 2k\\end{bmatrix}\n",
        "\\end{align}$\n",
        "\n",
        "This can also be written in the dynamic system form\n",
        "$\\begin{align}\n",
        "\\dot{Y}&=AY\n",
        "\\end{align}$\n",
        "where\n",
        "$\\begin{align}\n",
        "Y=\\begin{bmatrix}x_1\\\\x_2\\\\\\dot{x}_1\\\\\\dot{x}_2\\end{bmatrix},\\:\\:\\:\\:\n",
        "A=\\begin{bmatrix}0 & 0 & 1 &0\\\\ 0 & 0& 0 &1\\\\\\frac{k}{m} & -\\frac{2k}{m} & 0 &0 \\\\-\\frac{2k}{m} & \\frac{k}{m} & 0 &0\n",
        "\\end{bmatrix}.\n",
        "\\end{align}$"
      ]
    },
    {
      "cell_type": "markdown",
      "metadata": {},
      "source": [
        "### Import Modules"
      ]
    },
    {
      "cell_type": "code",
      "execution_count": null,
      "metadata": {},
      "outputs": [],
      "source": [
        "import numpy as np\n",
        "from scipy.integrate import odeint\n",
        "import plotly.graph_objects as go"
      ]
    },
    {
      "cell_type": "markdown",
      "metadata": {},
      "source": [
        "<div class=\"alert alert-info\">\n",
        "\n",
        "Note\n",
        "\n",
        "The functions `create_line_trace`, `create_point_trace`, `create_arrow_trace`, and and others were written in previous tutorials. Please include them in your notebook on top before starting to follow this tutorial. You can download it by clicking the Download icon on the Navigation Bar.\n",
        "\n",
        "</div>"
      ]
    },
    {
      "cell_type": "code",
      "execution_count": null,
      "metadata": {
        "nbsphinx": "hidden"
      },
      "outputs": [],
      "source": [
        "def create_line_trace(start, end, color='blue', width=2, name='', dash='solid', showlegend=False):\n",
        "    line_trace = go.Scatter3d(\n",
        "        x=[start[0], end[0]],\n",
        "        y=[start[1], end[1]],\n",
        "        z=[start[2], end[2]],\n",
        "        mode='lines',\n",
        "        line=dict(color=color, width=width, dash=dash),\n",
        "        name=name,\n",
        "        showlegend=showlegend\n",
        "    )\n",
        "    return line_trace\n",
        "\n",
        "def create_point_trace(point, color='red', size=5, name=''):\n",
        "    x, y, z = point\n",
        "    trace = go.Scatter3d(\n",
        "        x=[x], y=[y], z=[z],\n",
        "        mode='markers+text',\n",
        "        marker=dict(color=color, size=size),\n",
        "        text=[name],\n",
        "        textposition=\"top center\",\n",
        "        showlegend=False\n",
        "    )\n",
        "    return trace\n",
        "\n",
        "def create_arrow_trace(start, end, color='blue', name='', showlegend=False):\n",
        "    # Create arrow shaft trace\n",
        "    shaft_trace = go.Scatter3d(\n",
        "        x=[start[0], end[0]], y=[start[1], end[1]], z=[start[2], end[2]],\n",
        "        mode='lines',\n",
        "        line=dict(color=color, width=5),\n",
        "        name=name,\n",
        "        showlegend=showlegend\n",
        "    )\n",
        "\n",
        "    # Create arrowhead trace\n",
        "    vec = np.array(end) - np.array(start)\n",
        "    length = np.linalg.norm(vec)\n",
        "    vec_normalized = vec / length if length > 0 else vec\n",
        "    arrowhead_size = 0.1 * length\n",
        "\n",
        "    head_trace = go.Cone(\n",
        "        x=[end[0]], y=[end[1]], z=[end[2]],\n",
        "        u=[vec_normalized[0]], v=[vec_normalized[1]], w=[vec_normalized[2]],\n",
        "        sizemode=\"absolute\", sizeref=arrowhead_size, showscale=False,\n",
        "        anchor=\"tip\", colorscale=[[0, color], [1, color]]\n",
        "    )\n",
        "\n",
        "    return [shaft_trace, head_trace]\n",
        "\n",
        "def create_3d_layout(title='3D Plot', gridcolor='lightblue', xaxis_title='X Axis', yaxis_title='Y Axis', zaxis_title='Z Axis'):\n",
        "    layout = go.Layout(\n",
        "        title=title,\n",
        "        scene=dict(\n",
        "            xaxis=dict(showbackground=False, showgrid=True, zeroline=True, zerolinewidth=2, zerolinecolor='rgba(0,0,0,0.5)', showticklabels=True, gridcolor=gridcolor, title=xaxis_title),\n",
        "            yaxis=dict(showbackground=False, showgrid=True, zeroline=True, zerolinewidth=2, zerolinecolor='rgba(0,0,0,0.5)', showticklabels=True, gridcolor=gridcolor, title=yaxis_title),\n",
        "            zaxis=dict(showbackground=False, showgrid=True, zeroline=True, zerolinewidth=2, zerolinecolor='rgba(0,0,0,0.5)', showticklabels=True, gridcolor=gridcolor, title=zaxis_title),\n",
        "        ),\n",
        "        scene_aspectmode='cube'\n",
        "    )\n",
        "    return layout\n",
        "\n",
        "def create_orthonormal_frame_traces(frame_name='e', origin=[0, 0, 0], length=1, color='blue', rotation_matrix=np.identity(3)):\n",
        "    # Define standard basis vectors\n",
        "    i = np.array([1, 0, 0])\n",
        "    j = np.array([0, 1, 0])\n",
        "    k = np.array([0, 0, 1])\n",
        "\n",
        "    # Apply rotation\n",
        "    i_rot = np.dot(rotation_matrix, i)\n",
        "    j_rot = np.dot(rotation_matrix, j)\n",
        "    k_rot = np.dot(rotation_matrix, k)\n",
        "\n",
        "    # Create traces for rotated axes with arrows\n",
        "    frame_traces = []\n",
        "    frame_traces.extend(create_arrow_trace(start=origin, end=np.array(origin) + length * i_rot, color=color, name=f'{frame_name}_x'))\n",
        "    frame_traces.extend(create_arrow_trace(start=origin, end=np.array(origin) + length * j_rot, color=color, name=f'{frame_name}_y'))\n",
        "    frame_traces.extend(create_arrow_trace(start=origin, end=np.array(origin) + length * k_rot, color=color, name=f'{frame_name}_z'))\n",
        "\n",
        "    return frame_traces\n",
        "\n",
        "def animate_particle(curve_points, particle_name='Particle', particle_color='red', particle_size=6, animation_speed=10):\n",
        "    # Creating frames for animation\n",
        "    frames = []\n",
        "    for i in range(0, len(curve_points), animation_speed):\n",
        "        frame = go.Frame(data=[go.Scatter3d(\n",
        "            x=[curve_points[i][0]],\n",
        "            y=[curve_points[i][1]],\n",
        "            z=[curve_points[i][2]],\n",
        "            mode='markers+text',\n",
        "            marker=dict(color=particle_color, size=particle_size),\n",
        "            text=[particle_name],\n",
        "            textposition='top center',\n",
        "            textfont=dict(size=15)\n",
        "        )])\n",
        "        frames.append(frame)\n",
        "\n",
        "    return frames\n",
        "\n",
        "def create_particle_animation(curve_points, title='Particle Animation', name='P', origin=[0, 0, 0]):\n",
        "\n",
        "    # Validate curve_points\n",
        "    if not isinstance(curve_points, np.ndarray):\n",
        "        raise ValueError(\"curve_points must be a NumPy array.\")\n",
        "    if curve_points.size == 0 or curve_points.ndim != 2 or curve_points.shape[1] != 3:\n",
        "        raise ValueError(\"curve_points must be a non-empty 2D NumPy array with 3 columns (x, y, z coordinates).\")\n",
        "\n",
        "    traces = []\n",
        "    frames = []\n",
        "\n",
        "    x_vals, y_vals, z_vals = zip(*curve_points)\n",
        "\n",
        "    # Add initial point and origin 'O'\n",
        "    traces.append(create_point_trace(curve_points[0], color='green', size=8, name=name))\n",
        "    traces.append(create_point_trace(origin, color='black', size=3, name='O'))\n",
        "\n",
        "    # Set layout for the figure\n",
        "    layout = create_3d_layout(title=title, xaxis_title='X Axis', yaxis_title='Y Axis', zaxis_title='Z Axis')\n",
        "\n",
        "    # Add path trace\n",
        "    traces.append(go.Scatter3d(\n",
        "        x=x_vals, y=y_vals, z=z_vals,\n",
        "        mode=\"lines\",\n",
        "        line=dict(color=\"blue\", width=2),\n",
        "        name='Path'\n",
        "    ))\n",
        "\n",
        "    # Animate the particle\n",
        "    frames = animate_particle(curve_points, name, particle_color='green', particle_size=8, animation_speed=1)\n",
        "\n",
        "    fig = go.Figure(data=traces, layout=layout, frames=frames)\n",
        "\n",
        "    # Adjust the camera settings\n",
        "    fig.update_layout(\n",
        "        scene=dict(\n",
        "            camera=dict(\n",
        "                up=dict(x=0, y=0, z=1),  # Sets the up direction (in this case, the z-axis is up)\n",
        "                center=dict(x=0, y=0, z=0),  # Centers the view on the given coordinates\n",
        "                eye=dict(x=1, y=-1.25, z=1.25)  # Sets the position of the camera\n",
        "            ),\n",
        "            aspectmode='cube'  # Keeps the aspect ratio of the axes fixed\n",
        "        )\n",
        "    )\n",
        "\n",
        "    # Add play and pause buttons\n",
        "    fig.update_layout(\n",
        "        updatemenus=[\n",
        "            dict(\n",
        "                type=\"buttons\",\n",
        "                buttons=[\n",
        "                    dict(label=\"Play\",\n",
        "                          method=\"animate\",\n",
        "                          args=[None, dict(frame=dict(duration=50, redraw=True), fromcurrent=True)]),\n",
        "                    dict(label=\"Pause\",\n",
        "                          method=\"animate\",\n",
        "                          args=[[None], dict(frame=dict(duration=0, redraw=False), mode=\"immediate\")])\n",
        "                ]\n",
        "            )\n",
        "        ]\n",
        "    )\n",
        "\n",
        "    return fig"
      ]
    },
    {
      "cell_type": "markdown",
      "metadata": {},
      "source": [
        "### Define System Function"
      ]
    },
    {
      "cell_type": "code",
      "execution_count": null,
      "metadata": {},
      "outputs": [],
      "source": [
        "def system_dynamics(Y, t, k, m):\n",
        "    A = np.array([[0, 0, 1, 0],\n",
        "                  [0, 0, 0, 1],\n",
        "                  [-2*k/m, k/m, 0, 0],\n",
        "                  [k/m, -2*k/m, 0, 0]])\n",
        "    dYdt = A@Y\n",
        "    return dYdt"
      ]
    },
    {
      "cell_type": "markdown",
      "metadata": {},
      "source": [
        "### Constants and Conditions"
      ]
    },
    {
      "cell_type": "code",
      "execution_count": null,
      "metadata": {},
      "outputs": [],
      "source": [
        "# parameters and initial conditions\n",
        "k = 1.0  # Spring constant\n",
        "m = 1.0  # Mass\n",
        "x1_0, x2_0 = 0.5, -0.5  # Initial positions\n",
        "v1_0, v2_0 = 0.1, 0.1   # Initial velocities\n",
        "Y0 = [x1_0, x2_0, v1_0, v2_0]\n",
        "t = np.linspace(0, 10, 250)  # Time points\n"
      ]
    },
    {
      "cell_type": "markdown",
      "metadata": {},
      "source": [
        "### Solve ODE"
      ]
    },
    {
      "cell_type": "code",
      "execution_count": null,
      "metadata": {},
      "outputs": [],
      "source": [
        "# Solve ODE\n",
        "solution = odeint(system_dynamics, Y0, t, args=(k, m))\n",
        "\n",
        "# Extract positions and velocities\n",
        "x1_vals, x2_vals = solution[:, 0], solution[:, 1]\n",
        "v1_vals, v2_vals = solution[:, 2], solution[:, 3]"
      ]
    },
    {
      "cell_type": "markdown",
      "metadata": {},
      "source": [
        "### Plot the Solutions"
      ]
    },
    {
      "cell_type": "code",
      "execution_count": null,
      "metadata": {},
      "outputs": [],
      "source": [
        "# Plotting\n",
        "fig = go.Figure()\n",
        "fig.add_trace(go.Scatter(x=t, y=x1_vals, mode='lines', name='x1 (Position)'))\n",
        "fig.add_trace(go.Scatter(x=t, y=x2_vals, mode='lines', name='x2 (Position)'))\n",
        "fig.add_trace(go.Scatter(x=t, y=v1_vals, mode='lines', name='v1 (Velocity)', line=dict(dash='dash')))\n",
        "fig.add_trace(go.Scatter(x=t, y=v2_vals, mode='lines', name='v2 (Velocity)', line=dict(dash='dash')))\n",
        "\n",
        "fig.update_layout(title='Mass-Spring System Dynamics',\n",
        "                  xaxis_title='Time (s)',\n",
        "                  yaxis_title='Position / Velocity',\n",
        "                  legend_title='Variable')\n",
        "\n",
        "fig.show()\n"
      ]
    },
    {
      "cell_type": "markdown",
      "metadata": {},
      "source": [
        "### Animation"
      ]
    },
    {
      "cell_type": "code",
      "execution_count": null,
      "metadata": {},
      "outputs": [],
      "source": [
        "fig = go.Figure(\n",
        "    data=[go.Scatter(x=[x1_vals[0]+0.5, x2_vals[0]-0.5], y=[0, 0], mode='markers', marker=dict(size=20, color=['red', 'blue']), name='Masses')],\n",
        "    layout=go.Layout(\n",
        "        xaxis=dict(range=[-1, 1], autorange=False),\n",
        "        yaxis=dict(range=[-1, 1], autorange=False, scaleanchor=\"x\", scaleratio=1),\n",
        "        title=\"Animation of Two-Mass, Two-Spring System\",\n",
        "        updatemenus=[dict(\n",
        "            type=\"buttons\",\n",
        "            buttons=[dict(label=\"Play\",\n",
        "                          method=\"animate\",\n",
        "                          args=[None, {\"frame\": {\"duration\": 50, \"redraw\": True}, \"fromcurrent\": True}]),\n",
        "                    dict(label=\"Pause\",\n",
        "                         method=\"animate\",\n",
        "                         args=[[None], {\"frame\": {\"duration\": 0, \"redraw\": False}, \"mode\": \"immediate\"}])])]\n",
        "    ),\n",
        "    frames=[go.Frame(data=[go.Scatter(x=[x1_vals[k]+0.5, x2_vals[k]-0.5], y=[0, 0], mode='markers', marker=dict(size=20, color=['red', 'blue']))])\n",
        "            for k in range(len(t))]\n",
        ")\n",
        "\n",
        "fig.show()"
      ]
    },
    {
      "cell_type": "markdown",
      "metadata": {},
      "source": [
        "### Energy"
      ]
    },
    {
      "cell_type": "code",
      "execution_count": null,
      "metadata": {},
      "outputs": [],
      "source": [
        "# Calculating energies\n",
        "KE = 0.5 * m * (solution[:, 2]**2 + solution[:, 3]**2)  # Kinetic Energy: 0.5 * m * v^2\n",
        "PE = 0.5 * k * (solution[:, 0]**2 + solution[:,1]**2 +(solution[:, 0] - solution[:, 1])**2)  # Potential Energy: 0.5 * k * x^2\n",
        "TE = KE + PE  # Total Energy\n",
        "\n",
        "# Plotting energies\n",
        "energy_fig = go.Figure()\n",
        "energy_fig.add_trace(go.Scatter(x=t, y=KE, mode='lines', name='Kinetic Energy'))\n",
        "energy_fig.add_trace(go.Scatter(x=t, y=PE, mode='lines', name='Potential Energy'))\n",
        "energy_fig.add_trace(go.Scatter(x=t, y=TE, mode='lines', name='Total Energy'))\n",
        "\n",
        "energy_fig.update_layout(title='Energy of the Mass-Spring System',\n",
        "                         xaxis_title='Time (s)',\n",
        "                         yaxis_title='Energy',\n",
        "                         legend_title='Type of Energy')\n",
        "\n",
        "energy_fig.show()\n"
      ]
    },
    {
      "cell_type": "markdown",
      "metadata": {},
      "source": [
        "### Linear Momentum"
      ]
    },
    {
      "cell_type": "code",
      "execution_count": null,
      "metadata": {},
      "outputs": [],
      "source": [
        "P=m*solution[:,2]+m*solution[:,3]\n",
        "fig = go.Figure()\n",
        "fig.add_trace(go.Scatter(x=t, y=P, mode='lines',name='Linear Momentum'))\n",
        "fig.update_layout(title='Linear Momentum Vs Time')\n",
        "fig.show()"
      ]
    }
  ],
  "metadata": {
    "kernelspec": {
      "display_name": "base",
      "language": "python",
      "name": "python3"
    },
    "language_info": {
      "codemirror_mode": {
        "name": "ipython",
        "version": 3
      },
      "file_extension": ".py",
      "mimetype": "text/x-python",
      "name": "python",
      "nbconvert_exporter": "python",
      "pygments_lexer": "ipython3",
      "version": "3.9.12"
    }
  },
  "nbformat": 4,
  "nbformat_minor": 2
}
