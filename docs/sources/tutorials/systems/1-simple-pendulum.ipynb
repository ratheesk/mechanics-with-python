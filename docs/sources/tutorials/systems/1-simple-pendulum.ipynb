{
  "cells": [
    {
      "cell_type": "code",
      "execution_count": null,
      "metadata": {
        "nbsphinx": "hidden"
      },
      "outputs": [],
      "source": [
        "# This is included for documentation purpose, not a part of this tutorial\n",
        "import plotly.io as pio\n",
        "pio.renderers.default = \"plotly_mimetype+notebook\""
      ]
    },
    {
      "cell_type": "markdown",
      "metadata": {},
      "source": [
        "# Simple Pendulum"
      ]
    },
    {
      "cell_type": "markdown",
      "metadata": {},
      "source": [
        "Let consider a simple pendulum consists of a mass $m$ attached to the end of a string of length $L$"
      ]
    },
    {
      "cell_type": "markdown",
      "metadata": {},
      "source": [
        "![simple-pendulum.jpg](data:image/jpeg;base64,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)"
      ]
    },
    {
      "cell_type": "markdown",
      "metadata": {},
      "source": [
        "## Solve ODE"
      ]
    },
    {
      "cell_type": "markdown",
      "metadata": {},
      "source": [
        "The motion of a simple pendulum can be described by a second-order differential equation, but, we need to convert this into a system of first-order equations to solve it numerically.\n",
        "\n",
        "The second-order differential equation for the angle \n",
        "$\\theta$ of the pendulum (with respect to the vertical) is given by $\\ddot{\\theta} + \\frac{g}{L} \\sin(\\theta) = 0\n",
        "$ \n",
        "\n",
        "Here $\\ddot{\\theta}$ represents the second derivative of theta with respect to time (angular acceleration). Where where $g$ is the acceleration due to gravity, and $L$ is the length of the pendulum. This equation arises from the balance of gravitational and rotational forces acting on the pendulum.\n",
        "\n",
        "To convert this into a system of first-order differential equations, we introduce $\\omega$ as the angular velocity of the pendulum ($\\omega=\\dot{\\theta}$).\n",
        "\n",
        " The system of equations then becomes:\n",
        "\n",
        " $\\frac{d\\theta}{dt} = \\omega$ and $\\frac{d\\omega}{dt} = -\\frac{g}{L} \\sin(\\theta)\n",
        "$\n",
        "\n",
        "We can now define a function to represent this system and then use `odeint` to solve it. Here's how you would define the function in Python:"
      ]
    },
    {
      "cell_type": "markdown",
      "metadata": {},
      "source": [
        "### Import Modules"
      ]
    },
    {
      "cell_type": "code",
      "execution_count": null,
      "metadata": {},
      "outputs": [],
      "source": [
        "import numpy as np\n",
        "from scipy.integrate import odeint\n",
        "import plotly.graph_objects as go"
      ]
    },
    {
      "cell_type": "markdown",
      "metadata": {},
      "source": [
        "<div class=\"alert alert-info\">\n",
        "\n",
        "Note\n",
        "\n",
        "The functions `create_line_trace`, `create_point_trace`, `create_arrow_trace`, and and others were written in previous tutorials. Please include them in your notebook on top before starting to follow this tutorial. You can download it by clicking the Download icon on the Navigation Bar.\n",
        "\n",
        "</div>"
      ]
    },
    {
      "cell_type": "code",
      "execution_count": null,
      "metadata": {
        "nbsphinx": "hidden"
      },
      "outputs": [],
      "source": [
        "def create_line_trace(start, end, color='blue', width=2, name='', dash='solid', showlegend=False):\n",
        "    line_trace = go.Scatter3d(\n",
        "        x=[start[0], end[0]],\n",
        "        y=[start[1], end[1]],\n",
        "        z=[start[2], end[2]],\n",
        "        mode='lines',\n",
        "        line=dict(color=color, width=width, dash=dash),\n",
        "        name=name,\n",
        "        showlegend=showlegend\n",
        "    )\n",
        "    return line_trace\n",
        "\n",
        "def create_point_trace(point, color='red', size=5, name=''):\n",
        "    x, y, z = point\n",
        "    trace = go.Scatter3d(\n",
        "        x=[x], y=[y], z=[z],\n",
        "        mode='markers+text',\n",
        "        marker=dict(color=color, size=size),\n",
        "        text=[name],\n",
        "        textposition=\"top center\",\n",
        "        showlegend=False\n",
        "    )\n",
        "    return trace\n",
        "\n",
        "def create_arrow_trace(start, end, color='blue', name='', showlegend=False):\n",
        "    # Create arrow shaft trace\n",
        "    shaft_trace = go.Scatter3d(\n",
        "        x=[start[0], end[0]], y=[start[1], end[1]], z=[start[2], end[2]],\n",
        "        mode='lines',\n",
        "        line=dict(color=color, width=5),\n",
        "        name=name,\n",
        "        showlegend=showlegend\n",
        "    )\n",
        "\n",
        "    # Create arrowhead trace\n",
        "    vec = np.array(end) - np.array(start)\n",
        "    length = np.linalg.norm(vec)\n",
        "    vec_normalized = vec / length if length > 0 else vec\n",
        "    arrowhead_size = 0.1 * length\n",
        "\n",
        "    head_trace = go.Cone(\n",
        "        x=[end[0]], y=[end[1]], z=[end[2]],\n",
        "        u=[vec_normalized[0]], v=[vec_normalized[1]], w=[vec_normalized[2]],\n",
        "        sizemode=\"absolute\", sizeref=arrowhead_size, showscale=False,\n",
        "        anchor=\"tip\", colorscale=[[0, color], [1, color]]\n",
        "    )\n",
        "\n",
        "    return [shaft_trace, head_trace]\n",
        "\n",
        "def create_3d_layout(title='3D Plot', gridcolor='lightblue', xaxis_title='X Axis', yaxis_title='Y Axis', zaxis_title='Z Axis'):\n",
        "    layout = go.Layout(\n",
        "        title=title,\n",
        "        scene=dict(\n",
        "            xaxis=dict(showbackground=False, showgrid=True, zeroline=True, zerolinewidth=2, zerolinecolor='rgba(0,0,0,0.5)', showticklabels=True, gridcolor=gridcolor, title=xaxis_title),\n",
        "            yaxis=dict(showbackground=False, showgrid=True, zeroline=True, zerolinewidth=2, zerolinecolor='rgba(0,0,0,0.5)', showticklabels=True, gridcolor=gridcolor, title=yaxis_title),\n",
        "            zaxis=dict(showbackground=False, showgrid=True, zeroline=True, zerolinewidth=2, zerolinecolor='rgba(0,0,0,0.5)', showticklabels=True, gridcolor=gridcolor, title=zaxis_title),\n",
        "        ),\n",
        "        scene_aspectmode='cube'\n",
        "    )\n",
        "    return layout\n",
        "\n",
        "def create_orthonormal_frame_traces(frame_name='e', origin=[0, 0, 0], length=1, color='blue', rotation_matrix=np.identity(3)):\n",
        "    # Define standard basis vectors\n",
        "    i = np.array([1, 0, 0])\n",
        "    j = np.array([0, 1, 0])\n",
        "    k = np.array([0, 0, 1])\n",
        "\n",
        "    # Apply rotation\n",
        "    i_rot = np.dot(rotation_matrix, i)\n",
        "    j_rot = np.dot(rotation_matrix, j)\n",
        "    k_rot = np.dot(rotation_matrix, k)\n",
        "\n",
        "    # Create traces for rotated axes with arrows\n",
        "    frame_traces = []\n",
        "    frame_traces.extend(create_arrow_trace(start=origin, end=np.array(origin) + length * i_rot, color=color, name=f'{frame_name}_x'))\n",
        "    frame_traces.extend(create_arrow_trace(start=origin, end=np.array(origin) + length * j_rot, color=color, name=f'{frame_name}_y'))\n",
        "    frame_traces.extend(create_arrow_trace(start=origin, end=np.array(origin) + length * k_rot, color=color, name=f'{frame_name}_z'))\n",
        "\n",
        "    return frame_traces\n",
        "\n",
        "def animate_particle(curve_points, particle_name='Particle', particle_color='red', particle_size=6, animation_speed=10):\n",
        "    # Creating frames for animation\n",
        "    frames = []\n",
        "    for i in range(0, len(curve_points), animation_speed):\n",
        "        frame = go.Frame(data=[go.Scatter3d(\n",
        "            x=[curve_points[i][0]],\n",
        "            y=[curve_points[i][1]],\n",
        "            z=[curve_points[i][2]],\n",
        "            mode='markers+text',\n",
        "            marker=dict(color=particle_color, size=particle_size),\n",
        "            text=[particle_name],\n",
        "            textposition='top center',\n",
        "            textfont=dict(size=15)\n",
        "        )])\n",
        "        frames.append(frame)\n",
        "\n",
        "    return frames\n",
        "\n",
        "def create_particle_animation(curve_points, title='Particle Animation', name='P', origin=[0, 0, 0]):\n",
        "\n",
        "    # Validate curve_points\n",
        "    if not isinstance(curve_points, np.ndarray):\n",
        "        raise ValueError(\"curve_points must be a NumPy array.\")\n",
        "    if curve_points.size == 0 or curve_points.ndim != 2 or curve_points.shape[1] != 3:\n",
        "        raise ValueError(\"curve_points must be a non-empty 2D NumPy array with 3 columns (x, y, z coordinates).\")\n",
        "\n",
        "    traces = []\n",
        "    frames = []\n",
        "\n",
        "    x_vals, y_vals, z_vals = zip(*curve_points)\n",
        "\n",
        "    # Add initial point and origin 'O'\n",
        "    traces.append(create_point_trace(curve_points[0], color='green', size=8, name=name))\n",
        "    traces.append(create_point_trace(origin, color='black', size=3, name='O'))\n",
        "\n",
        "    # Set layout for the figure\n",
        "    layout = create_3d_layout(title=title, xaxis_title='X Axis', yaxis_title='Y Axis', zaxis_title='Z Axis')\n",
        "\n",
        "    # Add path trace\n",
        "    traces.append(go.Scatter3d(\n",
        "        x=x_vals, y=y_vals, z=z_vals,\n",
        "        mode=\"lines\",\n",
        "        line=dict(color=\"blue\", width=2),\n",
        "        name='Path'\n",
        "    ))\n",
        "\n",
        "    # Animate the particle\n",
        "    frames = animate_particle(curve_points, name, particle_color='green', particle_size=8, animation_speed=1)\n",
        "\n",
        "    fig = go.Figure(data=traces, layout=layout, frames=frames)\n",
        "\n",
        "    # Adjust the camera settings\n",
        "    fig.update_layout(\n",
        "        scene=dict(\n",
        "            camera=dict(\n",
        "                up=dict(x=0, y=0, z=1),  # Sets the up direction (in this case, the z-axis is up)\n",
        "                center=dict(x=0, y=0, z=0),  # Centers the view on the given coordinates\n",
        "                eye=dict(x=1, y=-1.25, z=1.25)  # Sets the position of the camera\n",
        "            ),\n",
        "            aspectmode='cube'  # Keeps the aspect ratio of the axes fixed\n",
        "        )\n",
        "    )\n",
        "\n",
        "    # Add play and pause buttons\n",
        "    fig.update_layout(\n",
        "        updatemenus=[\n",
        "            dict(\n",
        "                type=\"buttons\",\n",
        "                buttons=[\n",
        "                    dict(label=\"Play\",\n",
        "                          method=\"animate\",\n",
        "                          args=[None, dict(frame=dict(duration=50, redraw=True), fromcurrent=True)]),\n",
        "                    dict(label=\"Pause\",\n",
        "                          method=\"animate\",\n",
        "                          args=[[None], dict(frame=dict(duration=0, redraw=False), mode=\"immediate\")])\n",
        "                ]\n",
        "            )\n",
        "        ]\n",
        "    )\n",
        "\n",
        "    return fig"
      ]
    },
    {
      "cell_type": "markdown",
      "metadata": {},
      "source": [
        "### Define System Function"
      ]
    },
    {
      "cell_type": "code",
      "execution_count": null,
      "metadata": {},
      "outputs": [],
      "source": [
        "def simple_pendulum(y, t, g, L):\n",
        "    theta, omega = y\n",
        "    dtheta_dt = omega\n",
        "    domega_dt = -(g / L) * np.sin(theta)\n",
        "    return [dtheta_dt, domega_dt]"
      ]
    },
    {
      "cell_type": "markdown",
      "metadata": {},
      "source": [
        "### Constants and Conditions"
      ]
    },
    {
      "cell_type": "code",
      "execution_count": null,
      "metadata": {},
      "outputs": [],
      "source": [
        "# Constants\n",
        "g = 9.81  # Acceleration due to gravity (m/s^2)\n",
        "L = 1.0   # Length of the pendulum (m)\n",
        "m = 5 # mass\n",
        "\n",
        "# Initial conditions\n",
        "theta0 = np.pi / 4  # Initial angle (45 degrees)\n",
        "omega0 = 0.0        # Initial angular velocity\n",
        "y0 = [theta0, omega0]\n",
        "\n",
        "# Time points\n",
        "t = np.linspace(0, 10, 500)"
      ]
    },
    {
      "cell_type": "markdown",
      "metadata": {},
      "source": [
        "### Solve ODE"
      ]
    },
    {
      "cell_type": "code",
      "execution_count": null,
      "metadata": {},
      "outputs": [],
      "source": [
        "# Solve ODE\n",
        "solution = odeint(simple_pendulum, y0, t, args=(g, L))\n",
        "\n",
        "# Extract the solutions\n",
        "theta_vals, omega_vals = solution.T\n",
        "\n",
        "# Compute angular acceleration\n",
        "alpha_vals = -(g / L) * np.sin(theta_vals)"
      ]
    },
    {
      "cell_type": "markdown",
      "metadata": {},
      "source": [
        "### Plot the Solutions"
      ]
    },
    {
      "cell_type": "code",
      "execution_count": null,
      "metadata": {},
      "outputs": [],
      "source": [
        "# Create traces\n",
        "trace1 = go.Scatter(x=t, y=theta_vals, mode='lines', name='Angular Displacement')\n",
        "trace2 = go.Scatter(x=t, y=omega_vals, mode='lines', name='Angular Velocity')\n",
        "trace3 = go.Scatter(x=t, y=alpha_vals, mode='lines', name='Angular Acceleration')\n",
        "\n",
        "# Create a figure\n",
        "fig = go.Figure()\n",
        "\n",
        "# Add traces to the figure\n",
        "fig.add_trace(trace1)\n",
        "fig.add_trace(trace2)\n",
        "fig.add_trace(trace3)\n",
        "\n",
        "# Update layout for a better visualization\n",
        "fig.update_layout(title='Simple pendulum Dynamics',\n",
        "                  xaxis_title='Time (s)',\n",
        "                  yaxis_title='Theta / Omega',\n",
        "                  legend_title='Variable')\n",
        "\n",
        "fig.show()"
      ]
    },
    {
      "cell_type": "markdown",
      "metadata": {},
      "source": [
        "### Animation"
      ]
    },
    {
      "cell_type": "code",
      "execution_count": null,
      "metadata": {},
      "outputs": [],
      "source": [
        "# Convert angular displacement to Cartesian coordinates for animation\n",
        "x_vals = L * np.sin(theta_vals)\n",
        "y_vals = -L * np.cos(theta_vals)\n",
        "\n",
        "# Create the animation\n",
        "curve_points = np.column_stack((x_vals, y_vals, np.zeros_like(x_vals)))\n",
        "fig = create_particle_animation(curve_points, title=\"Simple Pendulum Animation\")\n",
        "\n",
        "# Show the animation\n",
        "fig.show()"
      ]
    },
    {
      "cell_type": "markdown",
      "metadata": {},
      "source": [
        "### Energy"
      ]
    },
    {
      "cell_type": "markdown",
      "metadata": {},
      "source": [
        "Kinetic Energy is given by $E_k = \\frac{1}{2}mL^2\\omega^2\n",
        "$ and Potential Energy is given by $E_p = mgh\n",
        "$ where $h = L - L\\cos(\\theta)$"
      ]
    },
    {
      "cell_type": "code",
      "execution_count": null,
      "metadata": {},
      "outputs": [],
      "source": [
        "def kinetic_energy(omega, L):\n",
        "    return 0.5 * m * L**2 * omega**2\n",
        "\n",
        "def potential_energy(theta, g, L):\n",
        "    return m * g * L * (1 - np.cos(theta))\n",
        "\n",
        "# Calculate energies\n",
        "KE = kinetic_energy(omega_vals, L)\n",
        "PE = potential_energy(theta_vals, g, L)\n",
        "TE = KE + PE  # Total Energy\n",
        "\n",
        "# Plotting energies\n",
        "energy_fig = go.Figure()\n",
        "energy_fig.add_trace(go.Scatter(x=t, y=KE, mode='lines', name='Kinetic Energy'))\n",
        "energy_fig.add_trace(go.Scatter(x=t, y=PE, mode='lines', name='Potential Energy'))\n",
        "energy_fig.add_trace(go.Scatter(x=t, y=TE, mode='lines', name='Total Energy'))\n",
        "\n",
        "energy_fig.update_layout(title='Energy of the Mass-Spring System',\n",
        "                         xaxis_title='Time (s)',\n",
        "                         yaxis_title='Energy',\n",
        "                         legend_title='Type of Energy')\n",
        "\n",
        "energy_fig.show()"
      ]
    },
    {
      "cell_type": "markdown",
      "metadata": {},
      "source": [
        "### Linear Momentum"
      ]
    },
    {
      "cell_type": "code",
      "execution_count": null,
      "metadata": {},
      "outputs": [],
      "source": [
        "P = m * L * omega_vals\n",
        "fig = go.Figure()\n",
        "fig.add_trace(go.Scatter(x=t, y=P, mode='lines',name='Linear Momentum'))\n",
        "fig.update_layout(title='Linear Momentum Vs Time')\n",
        "fig.show()"
      ]
    }
  ],
  "metadata": {
    "kernelspec": {
      "display_name": "base",
      "language": "python",
      "name": "python3"
    },
    "language_info": {
      "codemirror_mode": {
        "name": "ipython",
        "version": 3
      },
      "file_extension": ".py",
      "mimetype": "text/x-python",
      "name": "python",
      "nbconvert_exporter": "python",
      "pygments_lexer": "ipython3",
      "version": "3.9.12"
    }
  },
  "nbformat": 4,
  "nbformat_minor": 2
}
