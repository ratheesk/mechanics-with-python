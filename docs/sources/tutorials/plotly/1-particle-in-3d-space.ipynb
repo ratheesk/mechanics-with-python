{
  "cells": [
    {
      "cell_type": "markdown",
      "metadata": {},
      "source": [
        "# A Particle in Space"
      ]
    },
    {
      "cell_type": "code",
      "execution_count": null,
      "metadata": {
        "nbsphinx": "hidden"
      },
      "outputs": [],
      "source": [
        "# This is included for documentation purpose, not a part of this tutorial\n",
        "import plotly.io as pio\n",
        "pio.renderers.default = \"plotly_mimetype+notebook\""
      ]
    },
    {
      "cell_type": "markdown",
      "metadata": {},
      "source": [
        "In this tutorial, we'll go through the steps to plot a single particle in a 3D coordinate system using Plotly in Python."
      ]
    },
    {
      "cell_type": "markdown",
      "metadata": {},
      "source": [
        "##  Show a Particle"
      ]
    },
    {
      "cell_type": "markdown",
      "metadata": {},
      "source": [
        "First we'll learn how to display a point in 3D space with $x$, $y$, $z$ coordinates."
      ]
    },
    {
      "cell_type": "markdown",
      "metadata": {},
      "source": [
        "### Step 1: Importing Plotly"
      ]
    },
    {
      "cell_type": "markdown",
      "metadata": {},
      "source": [
        "First, we need to import Plotly's graph objects module, which is used for creating a wide variety of plots, including 3D plots."
      ]
    },
    {
      "cell_type": "code",
      "execution_count": null,
      "metadata": {},
      "outputs": [],
      "source": [
        "import plotly.graph_objects as go"
      ]
    },
    {
      "cell_type": "markdown",
      "metadata": {},
      "source": [
        "### Step 2: Set the Coordinates"
      ]
    },
    {
      "cell_type": "markdown",
      "metadata": {},
      "source": [
        "Plotly's go.Scatter3d function is used for creating 3D scatter plots. To plot a single particle, we will use this function with a single point's coordinates. $(1, 2, 3)$\n",
        "\n",
        "- `mode = 'markers'` specifies that we are plotting points (or markers).\n",
        "\n",
        "- `x`, `y`, and `z` are lists containing the coordinates of the particle. Since we're plotting a single particle, each list has only one element."
      ]
    },
    {
      "cell_type": "code",
      "execution_count": null,
      "metadata": {},
      "outputs": [],
      "source": [
        "# Coordinates of the particle\n",
        "x, y, z = [1], [2], [3]\n",
        "\n",
        "# Create a 3D scatter plot\n",
        "fig = go.Figure(data=[go.Scatter3d(\n",
        "    x=x,\n",
        "    y=y,\n",
        "    z=z,\n",
        "    mode='markers',\n",
        "    marker=dict(\n",
        "        size=10, # set the size of the particle\n",
        "        color='red',  # set the color of the particle\n",
        "    )\n",
        ")])"
      ]
    },
    {
      "cell_type": "markdown",
      "metadata": {},
      "source": [
        "### Step 3: Set titles and labels"
      ]
    },
    {
      "cell_type": "code",
      "execution_count": null,
      "metadata": {},
      "outputs": [],
      "source": [
        "fig.update_layout(\n",
        "    title=\"Plotting a Particle in 3D Space\",\n",
        "    scene = dict(\n",
        "        xaxis_title='X Axis',\n",
        "        yaxis_title='Y Axis',\n",
        "        zaxis_title='Z Axis'\n",
        "    )\n",
        ")\n",
        "\n",
        "# Show the plot\n",
        "fig.show()"
      ]
    },
    {
      "cell_type": "markdown",
      "metadata": {},
      "source": [
        "Congratulations! You've successfully plotted a particle in 3D space using Plotly. This fundamental skill is a stepping stone to more complex 3D visualizations, such as plotting trajectories, vectors, or mechanical components in 3D space."
      ]
    },
    {
      "cell_type": "markdown",
      "metadata": {},
      "source": [
        "## Adding an Origin"
      ]
    },
    {
      "cell_type": "markdown",
      "metadata": {},
      "source": [
        "After plotting a single particle in 3D space, the next step is to enhance our visualization by adding an origin. This will help us better understand the position of the particle in relation to a central reference point. Let's continue our tutorial by adding the origin to our 3D plot."
      ]
    },
    {
      "cell_type": "markdown",
      "metadata": {},
      "source": [
        "### Step 4: Adding the Origin"
      ]
    },
    {
      "cell_type": "markdown",
      "metadata": {},
      "source": [
        "We'll add the origin $(0, 0, 0)$ as another particle on our plot, but with a different color to distinguish it. We'll also slightly adjust our previous code to include this new point.\n",
        "\n",
        "We'll create separate traces for each point and customize our plot further. This approach provides more flexibility and clarity, especially when dealing with multiple elements in a plot."
      ]
    },
    {
      "cell_type": "markdown",
      "metadata": {},
      "source": [
        "We'll create two different traces – one for the particle and another for the origin. Each trace will have its own characteristics like color and name."
      ]
    },
    {
      "cell_type": "code",
      "execution_count": null,
      "metadata": {},
      "outputs": [],
      "source": [
        "# Trace for the particle\n",
        "dot_trace = go.Scatter3d(\n",
        "    x=[1], y=[2], z=[3],\n",
        "    mode='markers',\n",
        "    marker=dict(size=10, color='red'),\n",
        "    name='Particle'\n",
        ")\n",
        "\n",
        "# Trace for the origin\n",
        "origin_trace = go.Scatter3d(\n",
        "    x=[0], y=[0], z=[0],\n",
        "    mode='markers+text',\n",
        "    marker=dict(size=5, color='blue'),\n",
        "    name='Origin',\n",
        "    text=[\"O\"],  # Text labels for point\n",
        "    textposition=\"top center\",  # Position of the text\n",
        "    showlegend=False\n",
        ")"
      ]
    },
    {
      "cell_type": "markdown",
      "metadata": {},
      "source": [
        "We created two separate `Scatter3d` objects, `dot_trace` and `origin_trace`, each representing a point in our 3D space.\n",
        "\n",
        "`text=[\"O\"]` will add the text over the origin and you need to change the `mode` as `mode='markers+text'` to show it. As well as, `showlegend=False` will hide the Origin from our legend.\n"
      ]
    },
    {
      "cell_type": "markdown",
      "metadata": {},
      "source": [
        "### Step 5: Defining the Layout"
      ]
    },
    {
      "cell_type": "markdown",
      "metadata": {},
      "source": [
        "We will define a layout for our plot to customize the appearance, including titles and axis labels."
      ]
    },
    {
      "cell_type": "code",
      "execution_count": null,
      "metadata": {},
      "outputs": [],
      "source": [
        "layout = go.Layout(\n",
        "    title=\"Plotting a Particle and the Origin in 3D Space with Separate Traces\",\n",
        "    scene=dict(\n",
        "        xaxis_title='X Axis',\n",
        "        yaxis_title='Y Axis',\n",
        "        zaxis_title='Z Axis'\n",
        "    )\n",
        ")\n"
      ]
    },
    {
      "cell_type": "markdown",
      "metadata": {},
      "source": [
        "<div class=\"alert alert-info\">\n",
        "\n",
        "Note\n",
        "\n",
        "Don't confuse with `fig.update_layout()` and `layout = go.Layout()`. We can define the layout in a separate variable and add this in the plot later with `go.Layout()`. `fig.update_layout()` can be used to directly update the layout for the graph object.\n",
        "\n",
        "</div>"
      ]
    },
    {
      "cell_type": "markdown",
      "metadata": {},
      "source": [
        "### Step 6: Combining Traces and Layout"
      ]
    },
    {
      "cell_type": "code",
      "execution_count": null,
      "metadata": {},
      "outputs": [],
      "source": [
        "fig = go.Figure(data=[dot_trace, origin_trace], layout=layout)\n",
        "\n",
        "# Show the plot\n",
        "fig.show()\n"
      ]
    },
    {
      "cell_type": "markdown",
      "metadata": {},
      "source": [
        "But, in above plot you may not able to see the origin clearly. Let's adjust the  `range` for each axis."
      ]
    },
    {
      "cell_type": "markdown",
      "metadata": {},
      "source": [
        "### Step 7: Set Axis Range"
      ]
    },
    {
      "cell_type": "code",
      "execution_count": null,
      "metadata": {},
      "outputs": [],
      "source": [
        "# Updated layout with axis ranges\n",
        "layout = go.Layout(\n",
        "    title=\"Plotting a Particle and the Origin in 3D Space\",\n",
        "    scene=dict(\n",
        "        xaxis=dict(title='X Axis', range=[-5, 5]),  # Setting range for X axis\n",
        "        yaxis=dict(title='Y Axis', range=[-5, 5]),  # Setting range for Y axis\n",
        "        zaxis=dict(title='Z Axis', range=[-5, 5])   # Setting range for Z axis\n",
        "    )\n",
        ")\n",
        "\n",
        "# Combining traces and updated layout into a figure\n",
        "fig = go.Figure(data=[dot_trace, origin_trace], layout=layout)\n",
        "\n",
        "# Show the plot\n",
        "fig.show()"
      ]
    },
    {
      "cell_type": "markdown",
      "metadata": {},
      "source": [
        "In this updated code, the range property is added to each axis within the scene dictionary of the layout. The range is defined as $[-5, 5]$ for all three axes ($x$, $y$, and $z$), but you can adjust these values based on your specific requirements. This setting ensures that the plot will focus on the specified range, making it easier to view and interpret the points within the defined space."
      ]
    },
    {
      "cell_type": "markdown",
      "metadata": {},
      "source": [
        "With this approach, you've learned how to create and manipulate separate traces and combine them with a custom layout in Plotly. This method is particularly useful for complex plots where you need to manage multiple elements with distinct properties. \n"
      ]
    }
  ],
  "metadata": {
    "kernelspec": {
      "display_name": "base",
      "language": "python",
      "name": "python3"
    },
    "language_info": {
      "codemirror_mode": {
        "name": "ipython",
        "version": 3
      },
      "file_extension": ".py",
      "mimetype": "text/x-python",
      "name": "python",
      "nbconvert_exporter": "python",
      "pygments_lexer": "ipython3",
      "version": "3.9.12"
    }
  },
  "nbformat": 4,
  "nbformat_minor": 2
}
