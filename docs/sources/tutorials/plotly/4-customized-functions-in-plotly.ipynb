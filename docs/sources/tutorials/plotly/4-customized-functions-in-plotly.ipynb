{
  "cells": [
    {
      "cell_type": "code",
      "execution_count": null,
      "metadata": {
        "nbsphinx": "hidden"
      },
      "outputs": [],
      "source": [
        "# This is included for documentation purpose, not a part of this tutorial\n",
        "import plotly.io as pio\n",
        "pio.renderers.default = \"plotly_mimetype+notebook\""
      ]
    },
    {
      "cell_type": "markdown",
      "metadata": {},
      "source": [
        "# Customized Functions"
      ]
    },
    {
      "cell_type": "markdown",
      "metadata": {},
      "source": [
        "In this tutorial, we will learn how to create customised functions to reuse them in our project work to return defa;ut traces. \n",
        "\n",
        "We'll focus on four key functions: `create_line_trace`, `create_point_trace`, `create_arrow_trace`, `create_3d_layout` and `create_particle_animation`. Each of these functions helps us to build different elements of a 3D plot, which we can then combine into a comprehensive visualization."
      ]
    },
    {
      "cell_type": "markdown",
      "metadata": {},
      "source": [
        "<div class=\"alert alert-info\">\n",
        "\n",
        "Note\n",
        "\n",
        "We are writing these functions to simplify our works. The arguments used here can be pre-defined so no need to repeat them. The default values make our life easier\n",
        "\n",
        "</div>"
      ]
    },
    {
      "cell_type": "markdown",
      "metadata": {},
      "source": [
        "## Setting Up"
      ]
    },
    {
      "cell_type": "markdown",
      "metadata": {},
      "source": [
        "First, import the necessary libraries"
      ]
    },
    {
      "cell_type": "code",
      "execution_count": null,
      "metadata": {},
      "outputs": [],
      "source": [
        "import plotly.graph_objects as go\n",
        "import numpy as np"
      ]
    },
    {
      "cell_type": "markdown",
      "metadata": {},
      "source": [
        "## Writing Functions"
      ]
    },
    {
      "cell_type": "markdown",
      "metadata": {},
      "source": [
        "### `create_line_trace`"
      ]
    },
    {
      "cell_type": "markdown",
      "metadata": {},
      "source": [
        "This function creates a line trace between two points in 3D space. We just need to give the starting and end points for quick works"
      ]
    },
    {
      "cell_type": "code",
      "execution_count": null,
      "metadata": {},
      "outputs": [],
      "source": [
        "def create_line_trace(start, end, color='blue', width=2, name='', dash='solid', showlegend=False):\n",
        "    line_trace = go.Scatter3d(\n",
        "        x=[start[0], end[0]],\n",
        "        y=[start[1], end[1]],\n",
        "        z=[start[2], end[2]],\n",
        "        mode='lines',\n",
        "        line=dict(color=color, width=width, dash=dash),\n",
        "        name=name,\n",
        "        showlegend=showlegend\n",
        "    )\n",
        "    return line_trace"
      ]
    },
    {
      "cell_type": "markdown",
      "metadata": {},
      "source": [
        "### `create_point_trace`"
      ]
    },
    {
      "cell_type": "markdown",
      "metadata": {},
      "source": [
        "This function creates a trace for a single point in 3D space."
      ]
    },
    {
      "cell_type": "code",
      "execution_count": null,
      "metadata": {},
      "outputs": [],
      "source": [
        "def create_point_trace(point, color='red', size=5, name=''):\n",
        "    x, y, z = point\n",
        "    trace = go.Scatter3d(\n",
        "        x=[x], y=[y], z=[z],\n",
        "        mode='markers+text',\n",
        "        marker=dict(color=color, size=size),\n",
        "        text=[name],\n",
        "        textposition=\"top center\",\n",
        "        showlegend=False\n",
        "    )\n",
        "    return trace"
      ]
    },
    {
      "cell_type": "markdown",
      "metadata": {},
      "source": [
        "### `create_arrow_trace`"
      ]
    },
    {
      "cell_type": "markdown",
      "metadata": {},
      "source": [
        "This function creates an arrow trace to indicate direction or movement."
      ]
    },
    {
      "cell_type": "code",
      "execution_count": null,
      "metadata": {},
      "outputs": [],
      "source": [
        "def create_arrow_trace(start, end, color='blue', name='', showlegend=False):\n",
        "    # Create arrow shaft trace\n",
        "    shaft_trace = go.Scatter3d(\n",
        "        x=[start[0], end[0]], y=[start[1], end[1]], z=[start[2], end[2]],\n",
        "        mode='lines',\n",
        "        line=dict(color=color, width=5),\n",
        "        name=name,\n",
        "        showlegend=showlegend\n",
        "    )\n",
        "\n",
        "    # Create arrowhead trace\n",
        "    vec = np.array(end) - np.array(start)\n",
        "    length = np.linalg.norm(vec)\n",
        "    vec_normalized = vec / length if length > 0 else vec\n",
        "    arrowhead_size = 0.1 * length\n",
        "\n",
        "    head_trace = go.Cone(\n",
        "        x=[end[0]], y=[end[1]], z=[end[2]],\n",
        "        u=[vec_normalized[0]], v=[vec_normalized[1]], w=[vec_normalized[2]],\n",
        "        sizemode=\"absolute\", sizeref=arrowhead_size, showscale=False,\n",
        "        anchor=\"tip\", colorscale=[[0, color], [1, color]]\n",
        "    )\n",
        "\n",
        "    return [shaft_trace, head_trace]\n"
      ]
    },
    {
      "cell_type": "markdown",
      "metadata": {},
      "source": [
        "### `create_3d_layout`"
      ]
    },
    {
      "cell_type": "markdown",
      "metadata": {},
      "source": [
        "This function sets up the layout for a 3D plot."
      ]
    },
    {
      "cell_type": "code",
      "execution_count": null,
      "metadata": {},
      "outputs": [],
      "source": [
        "def create_3d_layout(title='3D Plot', gridcolor='lightblue', xaxis_title='X Axis', yaxis_title='Y Axis', zaxis_title='Z Axis'):\n",
        "    layout = go.Layout(\n",
        "        title=title,\n",
        "        scene=dict(\n",
        "            xaxis=dict(showbackground=False, showgrid=True, zeroline=True, zerolinewidth=2, zerolinecolor='rgba(0,0,0,0.5)', showticklabels=True, gridcolor=gridcolor, title=xaxis_title),\n",
        "            yaxis=dict(showbackground=False, showgrid=True, zeroline=True, zerolinewidth=2, zerolinecolor='rgba(0,0,0,0.5)', showticklabels=True, gridcolor=gridcolor, title=yaxis_title),\n",
        "            zaxis=dict(showbackground=False, showgrid=True, zeroline=True, zerolinewidth=2, zerolinecolor='rgba(0,0,0,0.5)', showticklabels=True, gridcolor=gridcolor, title=zaxis_title),\n",
        "        ),\n",
        "        scene_aspectmode='cube'\n",
        "    )\n",
        "    return layout"
      ]
    },
    {
      "cell_type": "markdown",
      "metadata": {},
      "source": [
        "### `animate_particle`"
      ]
    },
    {
      "cell_type": "markdown",
      "metadata": {},
      "source": [
        "Creates animation frames for a particle moving along a curve in a 3D Plotly figure.\n"
      ]
    },
    {
      "cell_type": "code",
      "execution_count": null,
      "metadata": {},
      "outputs": [],
      "source": [
        "def animate_particle(curve_points, particle_name='Particle', particle_color='red', particle_size=6, animation_speed=10):\n",
        "    # Creating frames for animation\n",
        "    frames = []\n",
        "    for i in range(0, len(curve_points), animation_speed):\n",
        "        frame = go.Frame(data=[go.Scatter3d(\n",
        "            x=[curve_points[i][0]],\n",
        "            y=[curve_points[i][1]],\n",
        "            z=[curve_points[i][2]],\n",
        "            mode='markers+text',\n",
        "            marker=dict(color=particle_color, size=particle_size),\n",
        "            text=[particle_name],\n",
        "            textposition='top center',\n",
        "            textfont=dict(size=15)\n",
        "        )])\n",
        "        frames.append(frame)\n",
        "\n",
        "    return frames\n"
      ]
    },
    {
      "cell_type": "markdown",
      "metadata": {},
      "source": [
        "### `create_particle_animation`"
      ]
    },
    {
      "cell_type": "markdown",
      "metadata": {},
      "source": [
        "Creates a 3D animation of a particle moving along a specified path."
      ]
    },
    {
      "cell_type": "code",
      "execution_count": null,
      "metadata": {},
      "outputs": [],
      "source": [
        "def create_particle_animation(curve_points, title='Particle Animation', name='P', origin=[0, 0, 0]):\n",
        "\n",
        "    # Validate curve_points\n",
        "    if not isinstance(curve_points, np.ndarray):\n",
        "        raise ValueError(\"curve_points must be a NumPy array.\")\n",
        "    if curve_points.size == 0 or curve_points.ndim != 2 or curve_points.shape[1] != 3:\n",
        "        raise ValueError(\"curve_points must be a non-empty 2D NumPy array with 3 columns (x, y, z coordinates).\")\n",
        "\n",
        "    traces = []\n",
        "    frames = []\n",
        "\n",
        "    x_vals, y_vals, z_vals = zip(*curve_points)\n",
        "\n",
        "    # Add initial point and origin 'O'\n",
        "    traces.append(create_point_trace(curve_points[0], color='green', size=8, name=name))\n",
        "    traces.append(create_point_trace(origin, color='black', size=3, name='O'))\n",
        "\n",
        "    # Set layout for the figure\n",
        "    layout = create_3d_layout(title=title, xaxis_title='X Axis', yaxis_title='Y Axis', zaxis_title='Z Axis')\n",
        "\n",
        "    # Add path trace\n",
        "    traces.append(go.Scatter3d(\n",
        "        x=x_vals, y=y_vals, z=z_vals,\n",
        "        mode=\"lines\",\n",
        "        line=dict(color=\"blue\", width=2),\n",
        "        name='Path'\n",
        "    ))\n",
        "\n",
        "    # Animate the particle\n",
        "    frames = animate_particle(curve_points, name, particle_color='green', particle_size=8, animation_speed=1)\n",
        "\n",
        "    fig = go.Figure(data=traces, layout=layout, frames=frames)\n",
        "\n",
        "    # Adjust the camera settings\n",
        "    fig.update_layout(\n",
        "        scene=dict(\n",
        "            camera=dict(\n",
        "                up=dict(x=0, y=0, z=1),  # Sets the up direction (in this case, the z-axis is up)\n",
        "                center=dict(x=0, y=0, z=0),  # Centers the view on the given coordinates\n",
        "                eye=dict(x=1, y=-1.25, z=1.25)  # Sets the position of the camera\n",
        "            ),\n",
        "            aspectmode='cube'  # Keeps the aspect ratio of the axes fixed\n",
        "        )\n",
        "    )\n",
        "\n",
        "    # Add play and pause buttons\n",
        "    fig.update_layout(\n",
        "        updatemenus=[\n",
        "            dict(\n",
        "                type=\"buttons\",\n",
        "                buttons=[\n",
        "                    dict(label=\"Play\",\n",
        "                          method=\"animate\",\n",
        "                          args=[None, dict(frame=dict(duration=50, redraw=True), fromcurrent=True)]),\n",
        "                    dict(label=\"Pause\",\n",
        "                          method=\"animate\",\n",
        "                          args=[[None], dict(frame=dict(duration=0, redraw=False), mode=\"immediate\")])\n",
        "                ]\n",
        "            )\n",
        "        ]\n",
        "    )\n",
        "\n",
        "    return fig"
      ]
    },
    {
      "cell_type": "markdown",
      "metadata": {},
      "source": [
        "## Docs and Errors"
      ]
    },
    {
      "cell_type": "markdown",
      "metadata": {},
      "source": [
        "It is always best to keep error handling and good documentations for your function is great. For the simplicity I am not going to use it here but you may do it with some AI tools like ChatGPT or Bard quickly.\n",
        "\n",
        "Here is an exaple for a function with error handling and docstring."
      ]
    },
    {
      "cell_type": "code",
      "execution_count": null,
      "metadata": {},
      "outputs": [],
      "source": [
        "def create_arrow_trace(start, end, color='blue', name='', showlegend=False):\n",
        "    \"\"\"\n",
        "    Creates traces representing an arrow for a Plotly 3D plot.\n",
        "\n",
        "    Parameters:\n",
        "    - start (list or array): The starting point of the arrow, specified as [x, y, z].\n",
        "    - end (list or array): The ending point (tip) of the arrow, specified as [x, y, z].\n",
        "    - color (str, optional): Color of the arrow. Defaults to 'blue'.\n",
        "    - name (str, optional): Name of the arrow, used for legend and hover. Defaults to an empty string.\n",
        "    - showlegend (bool, optional): Whether to show the legend entry for this arrow. Defaults to False.\n",
        "\n",
        "    Returns:\n",
        "    - list: A list containing the Scatter3d trace for the arrow shaft and the Cone trace for the arrowhead.\n",
        "\n",
        "    Raises:\n",
        "    - ValueError: If 'start' or 'end' are not lists or arrays with exactly three elements, or if they contain non-numerical values.\n",
        "    - ValueError: If 'color' is not a string.\n",
        "    - ValueError: If 'name' is not a string.\n",
        "    - ValueError: If 'showlegend' is not a boolean.\n",
        "    \"\"\"\n",
        "\n",
        "    # Validate start and end points\n",
        "    for point in [start, end]:\n",
        "        if not isinstance(point, (list, np.ndarray)) or len(point) != 3:\n",
        "            raise ValueError(\"The 'start' and 'end' parameters must be lists or arrays with exactly three elements (x, y, z).\")\n",
        "        try:\n",
        "            # Convert elements to float to ensure they are numerical\n",
        "            map(float, point)\n",
        "        except ValueError:\n",
        "            raise ValueError(\"The 'start' and 'end' points must contain numerical values.\")\n",
        "\n",
        "    # Validate other parameters\n",
        "    if not isinstance(color, str):\n",
        "        raise ValueError(\"The 'color' parameter must be a string.\")\n",
        "    if not isinstance(name, str):\n",
        "        raise ValueError(\"The 'name' parameter must be a string.\")\n",
        "    if not isinstance(showlegend, bool):\n",
        "        raise ValueError(\"The 'showlegend' parameter must be a boolean.\")\n",
        "\n",
        "    # Create arrow shaft trace\n",
        "    shaft_trace = go.Scatter3d(\n",
        "        x=[start[0], end[0]], y=[start[1], end[1]], z=[start[2], end[2]],\n",
        "        mode='lines',\n",
        "        line=dict(color=color, width=5),\n",
        "        name=name,\n",
        "        showlegend=showlegend\n",
        "    )\n",
        "\n",
        "    # Create arrowhead trace\n",
        "    vec = np.array(end) - np.array(start)\n",
        "    length = np.linalg.norm(vec)\n",
        "    vec_normalized = vec / length if length > 0 else vec\n",
        "\n",
        "    # Size of the arrowhead relative to the arrow length\n",
        "    arrowhead_size = 0.1 * length\n",
        "\n",
        "    head_trace = go.Cone(\n",
        "        x=[end[0]], y=[end[1]], z=[end[2]],\n",
        "        u=[vec_normalized[0]], v=[vec_normalized[1]], w=[vec_normalized[2]],\n",
        "        sizemode=\"absolute\", sizeref=arrowhead_size, showscale=False,\n",
        "        anchor=\"tip\", colorscale=[[0, color], [1, color]]\n",
        "    )\n",
        "\n",
        "    return [shaft_trace, head_trace]\n"
      ]
    },
    {
      "cell_type": "markdown",
      "metadata": {},
      "source": [
        "## Combining the Elements"
      ]
    },
    {
      "cell_type": "markdown",
      "metadata": {},
      "source": [
        "Now, let's use these functions to create a simple 3D plot."
      ]
    },
    {
      "cell_type": "markdown",
      "metadata": {},
      "source": [
        "### Static Plot"
      ]
    },
    {
      "cell_type": "code",
      "execution_count": null,
      "metadata": {},
      "outputs": [],
      "source": [
        "# Define start and end points for the line and arrow\n",
        "start_point = [0, 0, 0]\n",
        "end_point = [1, 0, 4]\n",
        "\n",
        "# Create traces\n",
        "line_trace = create_line_trace(end_point, [1, 0, 0], dash='dash', color='red')\n",
        "point_trace = create_point_trace(end_point, color='green')\n",
        "arrow_trace = create_arrow_trace(start_point, end_point)\n",
        "\n",
        "# Create layout\n",
        "layout = create_3d_layout(title='My 3D Visualization')\n",
        "\n",
        "# Combine everything into a figure\n",
        "fig = go.Figure(data=[line_trace, point_trace] + arrow_trace, layout=layout)\n",
        "\n",
        "# Show the plot\n",
        "fig.show()\n"
      ]
    },
    {
      "cell_type": "markdown",
      "metadata": {},
      "source": [
        "### Animation"
      ]
    },
    {
      "cell_type": "code",
      "execution_count": null,
      "metadata": {},
      "outputs": [],
      "source": [
        "# Example parameters\n",
        "initial_position = np.array([0, 0, -1])\n",
        "velocity = np.array([1, 0, 0])\n",
        "time_values = np.linspace(0, 2, 11)\n",
        "\n",
        "# Initialize an array to store curve points at different time steps\n",
        "curve_points = np.zeros((len(time_values), 3))\n",
        "\n",
        "# Generate curve points based on the given formula\n",
        "for i, time in enumerate(time_values):\n",
        "    curve_points[i, :] = time * (time * initial_position - velocity)\n",
        "\n",
        "# Create a particle animation using the generated curve points\n",
        "animation_figure = create_particle_animation(curve_points)\n",
        "\n",
        "# Show the animation\n",
        "animation_figure.show()"
      ]
    },
    {
      "cell_type": "markdown",
      "metadata": {},
      "source": [
        "Feel free to expand upon this tutorial by adding more complex elements, adjusting parameters, or incorporating these plots into your data analysis workflow. Happy plotting!"
      ]
    }
  ],
  "metadata": {
    "kernelspec": {
      "display_name": "base",
      "language": "python",
      "name": "python3"
    },
    "language_info": {
      "codemirror_mode": {
        "name": "ipython",
        "version": 3
      },
      "file_extension": ".py",
      "mimetype": "text/x-python",
      "name": "python",
      "nbconvert_exporter": "python",
      "pygments_lexer": "ipython3",
      "version": "3.9.12"
    }
  },
  "nbformat": 4,
  "nbformat_minor": 2
}
