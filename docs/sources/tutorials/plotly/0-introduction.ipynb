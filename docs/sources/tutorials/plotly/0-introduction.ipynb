{
  "cells": [
    {
      "cell_type": "markdown",
      "metadata": {},
      "source": [
        "# Plotly for Mechanics"
      ]
    },
    {
      "cell_type": "code",
      "execution_count": null,
      "metadata": {
        "nbsphinx": "hidden"
      },
      "outputs": [],
      "source": [
        "# This is included for documentation purpose, not a part of this tutorial\n",
        "import plotly.io as pio\n",
        "pio.renderers.default = \"plotly_mimetype+notebook\""
      ]
    },
    {
      "cell_type": "markdown",
      "metadata": {},
      "source": [
        "Welcome to the world of interactive data visualization in mechanics! Plotly, a powerful graphing library for Python, offers an exciting way to visualize mechanical concepts and simulations. This tutorial will introduce you to the basics of Plotly and show you how to create interactive graphs that can enhance your understanding of mechanics."
      ]
    },
    {
      "cell_type": "markdown",
      "metadata": {},
      "source": [
        "## Why Plotly for Mechanics?"
      ]
    },
    {
      "cell_type": "markdown",
      "metadata": {},
      "source": [
        "Mechanics, the branch of physics dealing with motion and forces, often involves complex concepts that are best understood through visual representation. Plotly steps in as a dynamic tool to visualize these concepts, making it easier to grasp relationships, patterns, and behaviors in mechanical systems.\n",
        "\n",
        "**Key Features:**\n",
        "\n",
        "- Interactive Graphs: Zoom, pan, and hover to explore the data in more detail.\n",
        "- Versatile Plot Types: From simple line and scatter plots to complex 3D models.\n",
        "- Customizable and Aesthetic: Make your graphs informative and visually appealing."
      ]
    },
    {
      "cell_type": "markdown",
      "metadata": {},
      "source": [
        "## Getting Started with Plotly"
      ]
    },
    {
      "cell_type": "markdown",
      "metadata": {},
      "source": [
        "### Installation"
      ]
    },
    {
      "cell_type": "markdown",
      "metadata": {},
      "source": [
        "To begin, you need to install Plotly. If you haven't installed it yet, you can do so using pip:\n",
        "\n",
        "```bash\n",
        "pip install plotly\n",
        "```"
      ]
    },
    {
      "cell_type": "markdown",
      "metadata": {},
      "source": [
        "<div class=\"alert alert-info\">\n",
        "\n",
        "Note\n",
        "\n",
        "No need to follow this step, if you are using Google Colab\n",
        "\n",
        "</div>"
      ]
    },
    {
      "cell_type": "markdown",
      "metadata": {},
      "source": [
        "### Basic Plot with Plotly"
      ]
    },
    {
      "cell_type": "markdown",
      "metadata": {},
      "source": [
        "Let's start by creating a simple line graph, which could represent a basic mechanical relationship, like displacement vs. time."
      ]
    },
    {
      "cell_type": "markdown",
      "metadata": {},
      "source": [
        "<div class=\"alert alert-info\">\n",
        "\n",
        "Breath Out!\n",
        "\n",
        "Don't worry about the code. We'll go through it later. just copy and paste it on your colab cell and run it now!\n",
        "\n",
        "</div>"
      ]
    },
    {
      "cell_type": "markdown",
      "metadata": {},
      "source": [
        "This code will generate an interactive line graph showing the relationship between time and displacement as below. Hover on the data points and see the info."
      ]
    },
    {
      "cell_type": "code",
      "execution_count": null,
      "metadata": {},
      "outputs": [],
      "source": [
        "import plotly.graph_objects as go\n",
        "\n",
        "# Sample data\n",
        "time = [0, 1, 2, 3, 4, 5]  # Time in seconds\n",
        "displacement = [0, 1, 4, 9, 16, 25]  # Displacement in meters (squared relationship)\n",
        "\n",
        "# Create the figure\n",
        "fig = go.Figure(data=go.Scatter(x=time, y=displacement, mode='lines+markers'))\n",
        "\n",
        "# Add title and labels\n",
        "fig.update_layout(title='Displacement vs. Time',\n",
        "                  xaxis_title='Time (s)',\n",
        "                  yaxis_title='Displacement (m)')\n",
        "\n",
        "# Show the plot\n",
        "fig.show()"
      ]
    },
    {
      "cell_type": "markdown",
      "metadata": {},
      "source": [
        "### Advanced Plotting: 3D Visualization"
      ]
    },
    {
      "cell_type": "markdown",
      "metadata": {},
      "source": [
        "Plotly excels in creating 3D visualizations, which can be particularly useful in mechanics for understanding more complex spatial relationships.\n",
        "\n",
        "Imagine visualizing the trajectory of a projectile in three-dimensional space.This 3D plot dynamically illustrates the trajectory, allowing for a comprehensive view of the motion in space.\n",
        "\n",
        "Use your curser to rotate. Try zooming in and zooming out features!"
      ]
    },
    {
      "cell_type": "code",
      "execution_count": null,
      "metadata": {},
      "outputs": [],
      "source": [
        "import numpy as np\n",
        "\n",
        "# Sample data for projectile motion\n",
        "t = np.linspace(0, 10, 100)  # Time\n",
        "x = t  # X position (linear)\n",
        "y = t**2  # Y position (quadratic)\n",
        "z = t**3  # Z position (cubic)\n",
        "\n",
        "# Create 3D figure\n",
        "fig = go.Figure(data=[go.Scatter3d(x=x, y=y, z=z, mode='lines')])\n",
        "\n",
        "# Add title and labels\n",
        "fig.update_layout(title='3D Trajectory of a Projectile',\n",
        "                  scene=dict(\n",
        "                      xaxis_title='X Axis',\n",
        "                      yaxis_title='Y Axis',\n",
        "                      zaxis_title='Z Axis')\n",
        "                  )\n",
        "\n",
        "# Show the plot\n",
        "fig.show()"
      ]
    },
    {
      "cell_type": "markdown",
      "metadata": {},
      "source": [
        "### Adding Animation"
      ]
    },
    {
      "cell_type": "markdown",
      "metadata": {},
      "source": [
        "One of the most exciting features of Plotly is its ability to create animations. This is incredibly useful in mechanics, where understanding the evolution of a system over time is often crucial. Let's dive into how you can add animation to your graphs to bring mechanical concepts to life.\n",
        "\n",
        "Let's create a simple animated graph to illustrate a concept in mechanics, such as a bouncing ball."
      ]
    },
    {
      "cell_type": "code",
      "execution_count": null,
      "metadata": {},
      "outputs": [],
      "source": [
        "import plotly.graph_objects as go\n",
        "import numpy as np\n",
        "\n",
        "# Sample data: Simple harmonic motion for a bouncing ball\n",
        "frames = 30\n",
        "time = np.linspace(0, 2 * np.pi, frames)\n",
        "position = np.abs(np.sin(time))  # Absolute value of sine wave\n",
        "\n",
        "# Create the figure\n",
        "fig = go.Figure(\n",
        "    data=[go.Scatter(x=[0], y=[position[0]], mode=\"markers\")],\n",
        "    layout=go.Layout(\n",
        "        xaxis=dict(range=[-1, 1], autorange=False),\n",
        "        yaxis=dict(range=[0, 1], autorange=False),\n",
        "        title=\"Bouncing Ball Animation\"\n",
        "    ),\n",
        "    frames=[go.Frame(data=[go.Scatter(x=[0], y=[position[k]])])\n",
        "            for k in range(frames)]\n",
        ")\n",
        "\n",
        "# Add animation controls\n",
        "fig.update_layout(updatemenus=[dict(\n",
        "    type=\"buttons\",\n",
        "    buttons=[dict(label=\"Play\",\n",
        "                  method=\"animate\",\n",
        "                  args=[None, {\"frame\": {\"duration\": 100, \"redraw\": True}}]),\n",
        "             dict(label=\"Pause\",\n",
        "                  method=\"animate\",\n",
        "                  args=[[None], {\"frame\": {\"duration\": 0, \"redraw\": False}}])]\n",
        ")])\n",
        "\n",
        "# Show the plot\n",
        "fig.show()\n"
      ]
    },
    {
      "cell_type": "markdown",
      "metadata": {},
      "source": [
        "This introduction has just scratched the surface of what's possible with Plotly in the context of mechanics. As you delve deeper into mechanics simulations, you'll find Plotly an invaluable tool for bringing data to life and gaining deeper insights into mechanical phenomena."
      ]
    },
    {
      "cell_type": "markdown",
      "metadata": {},
      "source": [
        "<div class=\"alert alert-info\">\n",
        "\n",
        "Remember\n",
        "\n",
        "The best way to learn is by doing. Experiment with different types of graphs, play around with the settings, and visualize different mechanical concepts to see how Plotly can enhance your learning and research in mechanics. Happy plotting!\n",
        "\n",
        "</div>"
      ]
    }
  ],
  "metadata": {
    "kernelspec": {
      "display_name": "base",
      "language": "python",
      "name": "python3"
    },
    "language_info": {
      "codemirror_mode": {
        "name": "ipython",
        "version": 3
      },
      "file_extension": ".py",
      "mimetype": "text/x-python",
      "name": "python",
      "nbconvert_exporter": "python",
      "pygments_lexer": "ipython3",
      "version": "3.9.12"
    }
  },
  "nbformat": 4,
  "nbformat_minor": 2
}
