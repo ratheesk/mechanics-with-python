{
  "cells": [
    {
      "cell_type": "code",
      "execution_count": null,
      "metadata": {
        "nbsphinx": "hidden"
      },
      "outputs": [],
      "source": [
        "# This is included for documentation purpose, not a part of this tutorial\n",
        "import plotly.io as pio\n",
        "pio.renderers.default = \"plotly_mimetype+notebook\""
      ]
    },
    {
      "cell_type": "markdown",
      "metadata": {},
      "source": [
        "# Orthonormal Frame"
      ]
    },
    {
      "cell_type": "markdown",
      "metadata": {},
      "source": [
        "In this tutorial, we'll explore how to visualize an orthonormal frame in a 3D plot using Plotly in Python. We'll create an `create_orthonormal_frame_traces` function that generates traces for the orthonormal frame axes with arrows.\n",
        "\n",
        "An orthonormal frame is a set of three perpendicular unit vectors. These vectors, often denoted as $i$, $j$ and $k$  form the basis of a 3D coordinate system."
      ]
    },
    {
      "cell_type": "markdown",
      "metadata": {},
      "source": [
        "## Simple Orthonormal Frame"
      ]
    },
    {
      "cell_type": "markdown",
      "metadata": {},
      "source": [
        " We'll start by demonstrating how to use the `create_arrow_trace` function built in previous tutorial to create a simple orthonormal frame with the origin at (0, 0, 0)."
      ]
    },
    {
      "cell_type": "markdown",
      "metadata": {},
      "source": [
        "### Step 1: Setup"
      ]
    },
    {
      "cell_type": "code",
      "execution_count": null,
      "metadata": {},
      "outputs": [],
      "source": [
        "import plotly.graph_objects as go\n",
        "import numpy as np"
      ]
    },
    {
      "cell_type": "markdown",
      "metadata": {},
      "source": [
        "<div class=\"alert alert-info\">\n",
        "\n",
        "Note\n",
        "\n",
        "The functions `create_line_trace`, `create_point_trace`, `create_arrow_trace`, and and other were written in previous tutorial. Please include them in your notebook on top before starting to follow this tutorial. You can download it by clicking on the Download icon on the Navigation Bar.\n",
        "\n",
        "</div>"
      ]
    },
    {
      "cell_type": "code",
      "execution_count": null,
      "metadata": {
        "nbsphinx": "hidden"
      },
      "outputs": [],
      "source": [
        "def create_line_trace(start, end, color='blue', width=2, name='', dash='solid', showlegend=False):\n",
        "    line_trace = go.Scatter3d(\n",
        "        x=[start[0], end[0]],\n",
        "        y=[start[1], end[1]],\n",
        "        z=[start[2], end[2]],\n",
        "        mode='lines',\n",
        "        line=dict(color=color, width=width, dash=dash),\n",
        "        name=name,\n",
        "        showlegend=showlegend\n",
        "    )\n",
        "    return line_trace\n",
        "\n",
        "def create_point_trace(point, color='red', size=5, name=''):\n",
        "    x, y, z = point\n",
        "    trace = go.Scatter3d(\n",
        "        x=[x], y=[y], z=[z],\n",
        "        mode='markers+text',\n",
        "        marker=dict(color=color, size=size),\n",
        "        text=[name],\n",
        "        textposition=\"top center\",\n",
        "        showlegend=False\n",
        "    )\n",
        "    return trace\n",
        "\n",
        "def create_arrow_trace(start, end, color='blue', name='', showlegend=False):\n",
        "    # Create arrow shaft trace\n",
        "    shaft_trace = go.Scatter3d(\n",
        "        x=[start[0], end[0]], y=[start[1], end[1]], z=[start[2], end[2]],\n",
        "        mode='lines',\n",
        "        line=dict(color=color, width=5),\n",
        "        name=name,\n",
        "        showlegend=showlegend\n",
        "    )\n",
        "\n",
        "    # Create arrowhead trace\n",
        "    vec = np.array(end) - np.array(start)\n",
        "    length = np.linalg.norm(vec)\n",
        "    vec_normalized = vec / length if length > 0 else vec\n",
        "    arrowhead_size = 0.1 * length\n",
        "\n",
        "    head_trace = go.Cone(\n",
        "        x=[end[0]], y=[end[1]], z=[end[2]],\n",
        "        u=[vec_normalized[0]], v=[vec_normalized[1]], w=[vec_normalized[2]],\n",
        "        sizemode=\"absolute\", sizeref=arrowhead_size, showscale=False,\n",
        "        anchor=\"tip\", colorscale=[[0, color], [1, color]]\n",
        "    )\n",
        "\n",
        "    return [shaft_trace, head_trace]\n",
        "\n",
        "def create_3d_layout(title='3D Plot', gridcolor='lightblue', xaxis_title='X Axis', yaxis_title='Y Axis', zaxis_title='Z Axis'):\n",
        "    layout = go.Layout(\n",
        "        title=title,\n",
        "        scene=dict(\n",
        "            xaxis=dict(showbackground=False, showgrid=True, zeroline=True, zerolinewidth=2, zerolinecolor='rgba(0,0,0,0.5)', showticklabels=True, gridcolor=gridcolor, title=xaxis_title),\n",
        "            yaxis=dict(showbackground=False, showgrid=True, zeroline=True, zerolinewidth=2, zerolinecolor='rgba(0,0,0,0.5)', showticklabels=True, gridcolor=gridcolor, title=yaxis_title),\n",
        "            zaxis=dict(showbackground=False, showgrid=True, zeroline=True, zerolinewidth=2, zerolinecolor='rgba(0,0,0,0.5)', showticklabels=True, gridcolor=gridcolor, title=zaxis_title),\n",
        "        ),\n",
        "        scene_aspectmode='cube'\n",
        "    )\n",
        "    return layout"
      ]
    },
    {
      "cell_type": "markdown",
      "metadata": {},
      "source": [
        "### Step 2: Creating a Simple Orthonormal Frame"
      ]
    },
    {
      "cell_type": "markdown",
      "metadata": {},
      "source": [
        "First create arrow traces for eac axis starting from origin $O = (0,0,0)$ and the end point for each orthogonal vectors $i=[1, 0, 0], j=[1, 0, 0], k=[1, 0, 0]$"
      ]
    },
    {
      "cell_type": "code",
      "execution_count": null,
      "metadata": {},
      "outputs": [],
      "source": [
        "origin = [0, 0, 0]\n",
        "i = [1, 0, 0]\n",
        "j = [0, 1, 0]\n",
        "k = [0, 0, 1]\n",
        "\n",
        "# Create a simple orthonormal frame\n",
        "x_axis_trace = create_arrow_trace(start=origin, end=i, color='red', name='X-axis')\n",
        "y_axis_trace = create_arrow_trace(start=origin, end=j, color='red', name='Y-axis')\n",
        "z_axis_trace = create_arrow_trace(start=origin, end=k, color='red', name='Z-axis')\n"
      ]
    },
    {
      "cell_type": "markdown",
      "metadata": {},
      "source": [
        "### Step 3: Plot the Graph"
      ]
    },
    {
      "cell_type": "markdown",
      "metadata": {},
      "source": [
        "Let's add a layout and plot the graph."
      ]
    },
    {
      "cell_type": "code",
      "execution_count": null,
      "metadata": {},
      "outputs": [],
      "source": [
        "# Create layout\n",
        "layout = create_3d_layout(title='Inertial Frame')\n",
        "\n",
        "# Combine everything into a figure\n",
        "fig = go.Figure(data= x_axis_trace + y_axis_trace + z_axis_trace, layout=layout)\n",
        "\n",
        "# Show the plot\n",
        "fig.show()"
      ]
    },
    {
      "cell_type": "markdown",
      "metadata": {},
      "source": [
        "## Rotated Inertial Frame"
      ]
    },
    {
      "cell_type": "markdown",
      "metadata": {},
      "source": [
        "Now, let's show how to add a rotated frame to the existing plot."
      ]
    },
    {
      "cell_type": "markdown",
      "metadata": {},
      "source": [
        "### Step 1: Define Rotation Matrix"
      ]
    },
    {
      "cell_type": "markdown",
      "metadata": {},
      "source": [
        "We'll rotate the entire frame by 45 degrees around the Z-axis."
      ]
    },
    {
      "cell_type": "markdown",
      "metadata": {},
      "source": [
        "<div class=\"alert alert-info\">\n",
        "\n",
        "Info\n",
        "\n",
        "Rotational matrices are used to rotate vectors in 3D space. We can represent these rotations using a 3x3 matrix. For example, to rotate a vector $v$ using a rotational matrix $R$, the rotated vector $v_{rot}$ is given by $v_{rot} = Rv$\n",
        "\n",
        "To learn more Read [Here](https://en.wikipedia.org/wiki/Rotation_matrix)\n",
        "</div>"
      ]
    },
    {
      "cell_type": "code",
      "execution_count": null,
      "metadata": {},
      "outputs": [],
      "source": [
        "# Rotation matrix for a 45-degree rotation around the Z-axis\n",
        "theta = np.radians(45)\n",
        "rotation_matrix = np.array([\n",
        "    [np.cos(theta), -np.sin(theta), 0],\n",
        "    [np.sin(theta), np.cos(theta), 0],\n",
        "    [0, 0, 1]\n",
        "])"
      ]
    },
    {
      "cell_type": "markdown",
      "metadata": {},
      "source": [
        "### Step 2: Apply Rotation to Each Axis"
      ]
    },
    {
      "cell_type": "code",
      "execution_count": null,
      "metadata": {},
      "outputs": [],
      "source": [
        "i_rot = np.dot(rotation_matrix, i)\n",
        "j_rot = np.dot(rotation_matrix, j)\n",
        "k_rot = np.dot(rotation_matrix, k)\n",
        "# Apply rotation to each axis\n",
        "x_axis_rotated_trace = create_arrow_trace(start=origin, end=i_rot, color='green', name='X-axis (rotated)')\n",
        "y_axis_rotated_trace = create_arrow_trace(start=origin, end=j_rot, color='green', name='Y-axis (rotated)')\n",
        "z_axis_rotated_trace = create_arrow_trace(start=origin, end=k_rot, color='green', name='Z-axis (rotated)')"
      ]
    },
    {
      "cell_type": "markdown",
      "metadata": {},
      "source": [
        "### Step 3: Add Traces"
      ]
    },
    {
      "cell_type": "code",
      "execution_count": null,
      "metadata": {},
      "outputs": [],
      "source": [
        "# Combine everything into a figure\n",
        "fig = go.Figure(data= x_axis_trace + y_axis_trace + z_axis_trace + x_axis_rotated_trace + y_axis_rotated_trace + z_axis_rotated_trace, layout=layout)\n",
        "\n",
        "# Show the plot\n",
        "fig.show()"
      ]
    },
    {
      "cell_type": "markdown",
      "metadata": {},
      "source": [
        "## Using a Function"
      ]
    },
    {
      "cell_type": "markdown",
      "metadata": {},
      "source": [
        "It is hard to recreate the frame traces again and again. So, let's create the function that generates traces for the orthonormal frame axes with arrows."
      ]
    },
    {
      "cell_type": "markdown",
      "metadata": {},
      "source": [
        "### `create_orthonormal_frame_traces`"
      ]
    },
    {
      "cell_type": "code",
      "execution_count": null,
      "metadata": {},
      "outputs": [],
      "source": [
        "def create_orthonormal_frame_traces(frame_name='e', origin=[0, 0, 0], length=1, color='blue', rotation_matrix=np.identity(3)):\n",
        "    # Define standard basis vectors\n",
        "    i = np.array([1, 0, 0])\n",
        "    j = np.array([0, 1, 0])\n",
        "    k = np.array([0, 0, 1])\n",
        "\n",
        "    # Apply rotation\n",
        "    i_rot = np.dot(rotation_matrix, i)\n",
        "    j_rot = np.dot(rotation_matrix, j)\n",
        "    k_rot = np.dot(rotation_matrix, k)\n",
        "\n",
        "    # Create traces for rotated axes with arrows\n",
        "    frame_traces = []\n",
        "    frame_traces.extend(create_arrow_trace(start=origin, end=np.array(origin) + length * i_rot, color=color, name=f'{frame_name}_x'))\n",
        "    frame_traces.extend(create_arrow_trace(start=origin, end=np.array(origin) + length * j_rot, color=color, name=f'{frame_name}_y'))\n",
        "    frame_traces.extend(create_arrow_trace(start=origin, end=np.array(origin) + length * k_rot, color=color, name=f'{frame_name}_z'))\n",
        "\n",
        "    return frame_traces"
      ]
    },
    {
      "cell_type": "markdown",
      "metadata": {},
      "source": [
        "Now, let's use the `create_orthonormal_frame_traces` function along with other elements to create a 3D plot."
      ]
    },
    {
      "cell_type": "markdown",
      "metadata": {},
      "source": [
        "### Point P, Q in 3D Inertial Frame"
      ]
    },
    {
      "cell_type": "markdown",
      "metadata": {},
      "source": [
        "Consider two points $\\mathbf{P}$ and $\\mathbf{Q}$ in 3D-Euclidean space with Euclidean coordinates\n",
        "$x\\triangleq (x_1,x_2,x_3)\\in \\mathbb{R}^3$ and $y\\triangleq (y_1,y_2,y_3)\\in \\mathbb{R}^3$ respectively with respect to a frame $\\mathbf{e}$.\n",
        "\n",
        "For example let $x = \\begin{bmatrix}\n",
        "2 & 4 & 5\n",
        "\\end{bmatrix}$ and $y = \\begin{bmatrix}\n",
        "4 & 1 & 5\n",
        "\\end{bmatrix}$"
      ]
    },
    {
      "cell_type": "code",
      "execution_count": null,
      "metadata": {},
      "outputs": [],
      "source": [
        "origin = np.array([0, 0, 0])\n",
        "x = np.array([2,4,5])\n",
        "y = np.array([4,1,5])\n",
        "\n",
        "# Define the origin and points P and Q\n",
        "\n",
        "point_p = x - origin  # Example coordinates for P\n",
        "point_q = y - origin  # Example coordinates for Q\n",
        "\n",
        "# Create traces for the origin, points P and Q, OP, OQ, and PQ\n",
        "traces = [create_point_trace(origin, color='black', size=3, name='O'),\n",
        "          create_point_trace(point_p, color='green', size=3, name='P'),\n",
        "          create_point_trace(point_q, color='green', size=3, name='Q'),\n",
        "          create_line_trace(origin, point_p, color='blue', name='OP'),\n",
        "          create_line_trace(origin, point_q, color='blue', name='OQ'),\n",
        "          create_line_trace(point_p, point_q, color='gray', name='PQ')]\n",
        "\n",
        "# Create orthonormal frame traces\n",
        "frame_traces = create_orthonormal_frame_traces(frame_name='e', origin=origin, length=5, color='red')\n",
        "traces.extend(frame_traces)\n",
        "\n",
        "# Set layout and create the figure\n",
        "layout = create_3d_layout(title='Point P, Q in 3D Inertial Frame e', xaxis_title='e1 Axis', yaxis_title='e2 Axis', zaxis_title='e3 Axis')\n",
        "fig = go.Figure(data=traces, layout=layout)\n",
        "\n",
        "# Display the figure\n",
        "fig.show()\n"
      ]
    },
    {
      "cell_type": "markdown",
      "metadata": {},
      "source": [
        "You've successfully created an orthonormal frame visualization in 3D using Plotly in Python. This approach allows you to represent different coordinate systems and orientations in a clear and interactive manner.\n",
        "\n",
        "Feel free to experiment with different rotation matrices to observe how the orthonormal frame changes based on rotations."
      ]
    }
  ],
  "metadata": {
    "kernelspec": {
      "display_name": "base",
      "language": "python",
      "name": "python3"
    },
    "language_info": {
      "codemirror_mode": {
        "name": "ipython",
        "version": 3
      },
      "file_extension": ".py",
      "mimetype": "text/x-python",
      "name": "python",
      "nbconvert_exporter": "python",
      "pygments_lexer": "ipython3",
      "version": "3.9.12"
    }
  },
  "nbformat": 4,
  "nbformat_minor": 2
}
