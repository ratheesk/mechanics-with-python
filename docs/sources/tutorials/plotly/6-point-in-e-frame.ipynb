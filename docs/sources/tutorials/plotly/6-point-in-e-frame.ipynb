{
  "cells": [
    {
      "cell_type": "code",
      "execution_count": null,
      "metadata": {
        "nbsphinx": "hidden"
      },
      "outputs": [],
      "source": [
        "# This is included for documentation purpose, not a part of this tutorial\n",
        "import plotly.io as pio\n",
        "pio.renderers.default = \"plotly_mimetype+notebook\""
      ]
    },
    {
      "cell_type": "markdown",
      "metadata": {},
      "source": [
        "# A Point in e Frame"
      ]
    },
    {
      "cell_type": "markdown",
      "metadata": {},
      "source": [
        "Let's simulate below 3D plot displaying the origin, point P, their projections on axes, line vectors, and an orthonormal frame in different colors and styles."
      ]
    },
    {
      "cell_type": "markdown",
      "metadata": {},
      "source": [
        "![a-point-in-e-frame.png](data:image/png;base64,iVBORw0KGgoAAAANSUhEUgAAAWAAAAJPCAYAAABCcw4yAAAABHNCSVQICAgIfAhkiAAAAAlwSFlzAAAN1wAADdcBQiibeAAAABl0RVh0U29mdHdhcmUAd3d3Lmlua3NjYXBlLm9yZ5vuPBoAACAASURBVHic7d13nBx1/cfx113qXSqBEAhFCQmdUKRKC026NKlSRVHsBdQfNlQUREGxgCCKiqh0MBSRjoiogEiRFnpvKRCSkHa/Pz673u7cfHdndmfmOzP7fj4e84DcTfnslc/Nfub7/XxBRERERERERERERERERERERERERERERERERERERERERERERERERERERERERERERERERERERERERERERERERERERESCunwHUKMH2BSYCIwH+oBXgCeA+4Cl/kITESmnvYBrgXlY0g3bXgF+CqzgKUYRkVKZAtyKO+mGbW8Bx3iIVUSkNDYDXiVe8q3dvpJ9yCIixbcWdidbm1CXAtOBQ4HVgBHASGA94ATgJQYm4f2yDlxEpMiGAf+mPpG+BExrctxo4PrAcW9gD+tERCSC46lPorOBdSIeOxwbDVF7/DdSiFFEpHSGAM9Sn0A/GvMcWwaOfxkYlGCMIiKltDf1yfNFYHAL57kncJ6NkgpQRCRL3Rlea1rg31cCi1s4z82Bf2/VUjQiIp5lmYC3Dvz7nhbP82Tg36u3eB4REa9aKQG0akrg3/tj44Hjmhz497jWwhER6QyDsbG+rU68aLRdleHrEBFJTFZ3wGNIr/GPaxREL9bcZytgDWA5bNzwAuwB4F3Axdg4ZBGRzGXVDW0U8GbgYxcBcxI49wNYo55aKwFP0/wPzCLgNGw88ZIEYhERyaV3qC8dpDl6YdWa67wDPAzcAlwG3AnMDMTy6xRjERHx7jnqk96RKV5rPHA6sCtWiggaAhwHLKyJZ+cU4xER8eoS6hPwBX7DAeCr9MdznudYRERS83HqE/BMrDbs0zr0x3OT51hEpMNkORHjSqweW7UM8OkMrx9mQc3/v+EtChGRDJxF/V3wAmCLNs7X7h+QY2tiOb7Nc4mI5NrKwOsM7Ou7e8zzjMPqt5e1EcuO9I+GeB5rAi8iUmo7Y014wlbE2JXwRDgIq9ceXdlvQeW42yNcrxc4tbL9CEvaD9Vc+35gUsuvRkSkYA4H5hM+tXgRthT9P4G7K//vWjE5SgJe1nHsUuBMYGhCr0lEpDA2B56ivT4QV0e4zlgsiVe3lwPneBxr9C4i0lGGYg/CHiN60n0R+BWwE60/hHs3cAb9pZC5wIYtnktEpCVZ9YKIYhKwA7Am1jhnGWym2hysYc5/sb4PDyV4zWOBcyr//zcG9iwWEZGUdGGJvXp3vZLfcESkk2Q5ESOP+rAHfVXBZu8iIqnp9AQM1pinaqG3KEREOswg4Bn6h6Wt4DccEZHiWz7ifl+jv/77zyb75umBpYhIbt2KNf85CJgY+NwQrBn8RdQPb9ulyTkPwEZmiIhIA7dTn1zfxJYoep6BK3MsBb4Q4ZyXAYelEKuISKl8hWiz7O4Ato1wvl5sssYVaQQrIp2p7HXNKcBmWBliIjbqYw7wCLYq8pMRz7M/cCnWv2J5LBmLiEgGLqT/rvkAz7GIiHSMYcBs+hPwH/yGIyLSOXZn4AO94V4jEpFS0Ey45vYP/HsUWsJeRCR1g4BXGTh64nyfQYmIdIIdCR++NgutpCEibVIJorFg+aFqLLBdloGIiHSSbmz1Ddckjl/4C01EpNy2pvEsupexGrGISEtUgnDbr8nnJ2BNfUREJGFP0ryXxI+8RSciUlKbEG2F5ucofz8NEUmJShDhmpUfqlYGNk0zEBEpLyXgcPvG2Nc1VE1ERGJaj2jlh+oWtaWliEgd3QEPFPeOdjVgahqBiEi5KQEPFLX+W0tlCBGRNk0mXvmhuj3oI1gRKTbdAddr9U52XWCtJAMRkfJTAq7XTikhzsgJERGpsTK2RH0rJYg+4O7sQxYRKYfP0HryrW6TMo9aRApLJYh+SYxk2CeBc4iIdJQJwGLavwO+I+vARUSK7mO0n3z7gCXAxIxjF5GCUgnCtDL5Ikw3KkOIiEQ2FniHZO6A+4Cbsg1fRKS4jiK55NuH1ZLHZ/kCRKSYVIJIrvxQNQjYK+FzioiUzkhgPsneAfcB12T5IkREiuggkk++fcACYEyGr0NECqjTSxAfSOm8w4A9Uzq3iEjh9QBzSecOuA+4LLuXIiJSLPuSXvLtA94GRmT2akSkcDq5BJF2+8heYNeUryEiUjhDgVmkewfcB/w+qxckIlIUu5F+8u0D3gSGZ/SaRKRgOrUEEXXyxdI2rzMK2KnNc4iIlMYg4BWa372+DjzX4PNnYt3Pmp3nV9m8LBGR/Nue5knzCWAKMKPBPttgD/LmNTnX68DgTF6ZiEjO/YTGCfPvwHKVfZ9osN/WlX22Ad5ock6VIUSk43XRuKxwJTZ8rOrJBvtuVbPfZODxBvueldYLEhEpii1xJ8nzGFgqeLrB/lsG9l0BWxk5bN+XsdqziEjH+gEDk+NS4CTH/s+E7F/dtgjZfyTWCa1RyUJEpCMFa7rvAB9ssP+zuBPw5o5jhgDnh+z/w/bDFxEppo2oT4izgR2aHNOoXrxZg+O6gG8G9n+m8nERkY5zMv3J8EVgwwjHvIA7AW8a4fijgIUxjxERKZ3/YknwQWDViMe8iDsBvyfiOXYG5lSOOSVGvCIipbAOlgBvxlZBjuol3Al44xjnmQo8DzwW4xgRKblO6QWxP9YgfXes9htVo5ptX4zz3I9N2FgCrB/jOBEpsU5JwDOAA7C12uJIKgEDPIUNRZsY8zgRkY70Ku4SxAYe4xKREuiUO+BWNfr6tNuqUkQ6nBJwY0mWIERE6igBN6YELCKpUQJuTAlYRFKjBNyYErCIpEYJuDE9hBOR1CgBN6Y7YBFJjRJwY0rAIpIaJeDGlIBFJDVKwI0pAYtIapSAG9NDOBFJjRJwY7oDFpHUKAE3pgQsIqkJLsMu9ZSAJQ2fAD4fYb/FwFvYwgAPAncBf8YWkxUpvcW421Gu4jEuKbav4v65arbNxNY3HJ551JI4lSAa00M4yZtlgK8A/wZW9hyLtEkliMZUgpAs3Al8I+TjvcAK2HJW+1X+XbUWcCO2OOzbaQco4kOjt4IreoxLii1YgrgywjETgL8w8Ofw2ynFKBlQCcKt0d0v6A5YsvUKsDfwQODjHwMGZR+OJEEJ2K3Z10YJWLI2n4F3vMsBG3uIRRKgBOymO2DJo5tDPrZa5lFIIpSA3ZolYI2CEB9mAksCH1vWRyDSPiVgN90BSx6NZGDNd46PQKR9SsBuSsCSR1uEfOyFzKOQRCgBuykBS950AccHPjYP+IeHWCQBSsBuGgUheTIYOAN4X+DjFwMLsg9HkqCZcG56CCdZGYpNMQ7qxSb8bAN8BFg78PnZ2LRkKSglYDeVICQru2GjG+KYC+wBvJh8OJIVlSDclIAlr/4MbIj1kJAC0x2wmxKw5MXL2BTkfwC/Bx72G44kRQnYTQ/hJCvXAR8M+fgS4M2MY5EMKQG76SGcZGUhMMt3EJI91YDdVIIQkVQpAbspAYtIqpSA3ZSARSRVSsBueggnIqlSAnbTQzgRSZUSsJtKECKSKiVgNyVgEUmVErBbswQsItIWJWC3Rl8b1X9FpG2aCefW6A5Y5Qdpx83Aopp/P+4rEJG8WhVLtGHbogbHiYhEohKEm+6ARSRVSsBuSsAikiolYDclYBFJlRKwm0ZBiEiqlIDddAcsIqlSAnZTAhaRVCkBuykBi0iqNBHDTQlYpDMMA5YDRgOzgdfRWH/v1sY9EWO2x7hEpD3dwL7AL4FnGfj7vQT4J/BtYGVPMXa8dXAnYC2gKFJMuwMP4P7dDm7zge8BQ3wE28nWxf1NmekxLhGJrwv4BjaENGryrd1uBMZkHnUHWw/3N+MNj3GJSHynM/D3+BXgVGAXYAqwAvbO9wgs4Qb3vwYNXMjM+rgT8Ose4xKReA5i4O/wWUBPk+MOwUoQtcd9Lr0wpdYGuBPwqx7jEpHoRmI3TLW/v6fGOP5gBt41N0vckoANcSfgVzzGJSLRfY763937gEExz3Fd4BwfSjJACbcR7gT8sse4RCS6/1L/u3tIC+fYO3COCxOLTpw2xp2AX/IYl4hEswL1ox4WYSWJuMZS//v/TFIB6omem2bCiRTb1tT/Hj8BzG3hPLMDx61EQrlTU5Hd1I5SpNiCs9jWJJmbp0HYmOC2J2QpAbvpDlik2JZJ8dwjaZyAx2IJfxRW+ngBuwOvyx3tJOCJwBn03ykuBj5N9DGypwCr1/z7N9hA57xQAhYptt4Mr9UFvAfYB3g/No8g6DXgd8B3SWguwXepL05fS+PEVfWJwHF3Yx2J8mQL3A/hEivCi8Q0AkbsCr3HQc+Xoffj0Ls7dqcl9b5M/e/tVSlea1/c+SJsHsGmSVx0MHB74OQnNDlmfWBezf5vAmskEUzCtsT9BXzaX1jSmUasT1fPJXT1zKerpy9ke4euniugdyPfkebIh6n/vX0wxWvtV7nGLOBcLCG/CxgBrFb59901sbwGjE/iwitXTlY71GMrx74jgYep/6IcmkQQKdgKdwJ+ymNc0lkG0d17Ml09SxyJN7gtpbvndPR8B+wus/b3dgkwIaVrbQN8isaz5IYCt9bEc3JSF9+N+vF2zwLLhux3AfVfkLOSCiAFW+NOwE94jEs6R3flrjdK4g1sw69BSbibgdOQP+o1ovo/Cn9P8sSnUf9Cr6a+Hnxs4PP3k+851dvgTsAzPMYlnaK75/utJd/K1t2T5xucrJzLwOc3wz3GM4yU8shg4A7qX+xnKp9bD3i75uNzgbWSvHgKtsWdgB/3GJd0hBEb0NWzuK0E3NWzFHq29v1KPHsXsID6398/EG2wQBreXRPH35I++SrU3/IvBHZi4Hzsw5O+cAq2w52AH/MYl3SC7p6L20y+1VLEtb5fSg6czMDf4d9ja8BF1Q3sAdyALdbQqq/UxPDNNs7j9H7q68GLqX/hv0zjoimYhjsBP+ovLOkAvXT1zE0mAfcshNHjfL8gz7qBKxn4e/walpy3YOCSQ4OwiRQHYWWMV2qOW6/FOCYBb1XOMYf0HghyBuGJ6yGyHRzdjh1wJ+CHPcYlxTYYm6EV3Ib279KzeeAuNrANi5eEGb6jjxeaM73YJAjX7/RibHzuE9i7+OCNY+3WSgIejT33qp7jaEjvKemXgfdRf6s+Dziw8t9W9WJF7Dmk34+hUY1oDPZQsaoXm8UXVhveD1vuJOhyx/5HYMuiBP0WK+UEHYf1Lg46G+t92mj/bvrXufo+8K+Q/U8gfNC4a/+TCB+GeBLhNa/vA9s7rntLg/1HUn/Xchzwl5D9z8Z+FmsNwoYMTQ/Z/zfAXiEfP9Kx/2XY9zhof+x7HHSRY/8PVM4FdK1gv6NA30Js9FRQF3QNI2Ipc6UoO5XcPOAw4DbgW1intFqDsHG5zcbmPkL8VdF7gSvonx33c+D8mOeIZSoDl/JYgLV4jGoQluR+jd1x1j7EW4j98h9PenfUO+H+Cxi27eM4zxWe9t/Xsf/lnvYPSzpgScfH/vs79r805f3/iC3qGtz27t+ld7f+u9dBfdBVswWuE+kOuOdARyydajjwMeAm6ieFhW3zsbG7JxEvf1X1Ur++3K+pafSVxpPAkdiMjzVDPjcDmy/9ZoTz9GJJt5nHsEX1no4YX1Q7E35HBTbb5ZKaf88DzsNKLEGHE160v8Cx/76Ezwy8gvCHf7tgT3qDbiB8wsjO2MwcsHcRcyr/fyfWMCTovYTfQbn2nwosH/Lx+wlfymkS4U1TniS82Ul1/7exP8RVrxD+8zIBm41UawnW03nhwN0ZQV054H+C10vRiPXpWnr/wI/3Qd+C+g91RRjJ2cdWMP/OZGIrnaHYneny2NyF4djvxGwsXz1L+FuQKEZgw3GnVf59AXAUKb97/wP1f0GeDfz79xHP04slnLOAA4BNsAZAk7Ck86eac/6L5Hsbvw/3X8UHEr6WSK1uunpeGHgnO6jy8zc4zh3wLML/oEi6RmLljur36nziL4UUW3CyxX+wtmz3Bj7+4YSud07NOd+b0DmrdsWdgP+T8LVE6nX3nFGfSIfVJN3hfdBtJYmu4U0mYww/1/dL6UAjsecX1e/ZL8hg8Yt1qa/TvkV/GWIyVnaoratskMA1aydLHJPA+WrthjsBhz3cEknQ6HF09bzRP/Khp4+uIZUt8giIt6FnVd+vpMOMwaYYV3PFOWSQfEdg9czaJHVYYJ/g8s5JDEnbrOZ8rodCrdoddwL+d8LXEgkx/Jj/PXxrdqcbOgtu+JG+X0GHGQv8g/48cTYZzbj7NfUJyvW25/zAfue1ed3vV87zNskPat4DdwK+N+FriQSNoq59YVec8b9LoOeLnuPvNOOxd8bVHPGDrC4cvLN9EPedbdidctxpySOw8sWPsaeJS7ExnUnbE3cCvieF64lUDaV+6FJNEq69Ew69K3620qBdsnUC9d+vsKGGYVtbpjCwtju1yTFhteJmjXkOJDwR3o7dqabh/Y5rVkddiKShG5usEfyZWwpDzqer5ya6ehYGEvAiunpuhd5PkL+VZTrFF3HnC+fWzky44cDF1C+F8nFsvGcjDwGfw4rTYE8MLwY2xxJ4HGOBVbE6S1/MY5vRmnDiwxnYDUfQ8bDoDPoWAfTA4M2gazXo+icsfIr4vzuSrKvIeKGGn1Ofzf8Y8/jgvOyfNth3BDb+dxI2G+UA6meAXUjyTxr3wf2X6x8JX0sE4GuE/7yF/W48Vfncu7MKTvKjG5vRVrvFHdEwIuQccZPol+j/IU36iW+jRfbuSvhaIh8h/GftQcLfjVWXOJ+UVYAiQd1Yh/s+7I44SdVF9sK2RJcSkY63F7aWYvDn7B3Cl/YCa+TUh42xl4JKfYBwypbSv9JpWMexdjT62qTdiU06x5ZY+S7secwJwBuO46o/g0X/He5oZVi0r3qH0E6byzB6CCdpWw9rYxos372D1XgbremmBFwCRU/A62BNeiD5sblKwJKmVYBrGdgJ7gVsiv1SrCm4yzPYc5RWO3WJNPQZbLSDq9/edvQ/CV4MbJTw9Q/CXQO+PeFrSWdZDmvsHfy5eh1YO8Z5ki67ScbyfAe8PvAjrLTwH6zf7wKsN+0U+nvago2GSLo/g+6AJQ29WCvVYL/s+VhT9jjLXan8IKn5FPUL4bmG6OyZ0vUPbXDdW1O6ppTbEOA6Bv48LcSaP8UV525ZcijPd8A/wQagT61sKwLjsDvi57HpwGk2Rm90B6xREBJXF9Z8atfAx/uAb9BaWUt3wPnWjXJFyw7DfQd8k8e4pJhcK4V/Eeui9SLxe2Sv33wXydhy2LOr87GVexrSX1A31YAlKSdi/U+Cfoqte7cB9nzj0RjnnIitBTi87eikXetiz6HuwMqmF2FrJl7vM6iiOwL3HfANHuOSYjkcexsa/Bm6EBiN3fn2YXdNcfytclzSS3FJcyOwXjG/oP/7V7uF/bGVmI7EnYBdqyWL1NqT8CnGN2A9f79T+fedxF854a+VY7dOKlhpaBI2MOB67N2KKzec5Cm+0jka9xf5zx7jkmLYHJhLeCe9kVitcB52d7x5C+evrri7bRLBygCDsbkGpwFP0ng0VnX7USsXkXCqAUur1sVmuY0IfPxxrPHO3Mq2GzCN1tqbaipy8pYFdsC+R3sycJZiIxcAn08jqE51DO6/dNd6jEvybWX6O/TVbs9jD82SclPlvDskeM5OtAHwf1hNfTHR7nSD22XAoFYurjtgN90BS1zLYs8HgkvBz8GWznomwWs9jz0AWpjgOTtBD7AVdpe7DwO/V3HdBHwQ9eRInKtBdh9wtce4JJ966R+ZULvNI70HZdNSOm/ZTMBGNV1M/RqW7W53YfX8lukO2E39gCWqIcClDBwStgS7O7ojpeuq/huuG2vOVa3lbkz8USbNPI1NH5+b8Hml4mO4//Jd5TEuyZcubNZT8GdkKfYcodZngR9iU+qTsFNC5ymDEVjCPQd4ieTucsO2J4EVsnlZnes43N+AKz3GJfnyA8J/Rr4U2G88MLvyufcldO2kzlNUk7C2tTdgTezTTLrV7Tm0EGomPo77m5D0+nNSTF8k/OfjZyH7nl353PQErx9s7FN2g7F6+qlY284sEm7t9irqQJeZT+D+RlzuMS7Jhw8SPsX49wysza6NzYhbhI0RTsIErMQRHGtcNuPpf4A2h+yTbnWbg63cLhn5FO5vxqUe4xL/9iB8ivFNwLCQ/as9gH+cYAyXVM75gQTPmRe1zW3C/shlvc0jpRmHGgXhpnHAEmYzrNtV8HfnX9iKFu8EPj4Me+s6E/hWgnGUaSZcL7AjNmJhT6zTW14swv7IpbIMmRKwmxKwBK2D3c0G3/bPoH+KcdA7WGOncVgSTko1Abc0AytHRmBfl6G+AwmxBFsZJ7WZr2X465kWJWCptRL2ixgcQvYisDPWB7aRJJMv9M+8Kvrv8DzfATj0AceScrmx6N+8NCkBS9UYLPm+K/Dx6hTjp7MOiPKUIPqAN3wHEeKLwK/SvohKEG6NfrCVgDtHDzb1fGrg4wuwssN9mUdkXsZqy3m9g4xjb2BDbLTIupX/ruIxnm9i47vFo+NxPxW90GNckp1B2Jjv4Pd/MbB/g+NWIf76bq04NINr+DIa65N8DPB9rPb+FOmPiojd01fScQLub9LvPMYl2egCfsnA7/1S4MNNjv0DVqP9UJoBYgvHdpph2PJNj5N88v0txS/plIZrllMf1nxZyu00wr/3JzY5bgssSc+j/VaHzRyR8vnzZhngTFrv29toa7mnr6TjSzT+Synl5ZoFeVaT47qwyQN9ZLM22NEZXCMPurA/Nq+STtnhRrS6dO58Gfc37Dce45J0HYqVD4Lf8z/S/O3poZV9XyCbKcLBbmtltAHhfZaT2tru6SvpOBH3N+18j3FJenYkvKvWzYRPMQ76T2X/LO5Ml8V+RsdkcC0fxpBeuaG63U9yrUElYV/B/Y1LfXygZG5T4C0Gfq//Q/QktxyWFLN4kPMjLL7PZHCtrO2FtX2MmkjfIPrKxdXtcXLQ01dP/Nw0EaNzTMbG+gbfij6B9dydE/E8rwPfJZsVU8oyEaPWGtiaen/CFjdtZin2QHw94iXT57HZiy/HDTBpZfrmJU0JuDNMxBp6Lx/4+KvYsvHNphj7UqYE3Is9tLwfS4xR3IstAXUEsCI2YSaK17A/qk/HijAlmgnnpgRcftUpxu8OfPxNrNn541kHFENZEvBewE8YOM3bZRY2U+2n9PfD2CzisW9if1QfjhNgmpSA3bQoZ7n1YKtTBGesLcRmuf074nm68PMHuejd0FbHEu9uEffvwyZAHY+9O6m1aYTj52PJ/p6oAYpf38RdwP+5x7ikfYOwgffB7+sS4jU43wP4Ozb5ImvHYzXn4zxcux09WLlhPtEfmN0HbNXgnA80OX4htoKxFMi3cH9Dz/YYl7SnCziP8O/rp2KcZzDwIH5HIpzg6bqt2hF4hOiJdy42IarRO/WRNB6qtphyrhpSet/G/U1tNiNK8usUwr+nX495nk9WjpuBv2biwZWX82olbPZonGFi04nWEW1ag3NE6dshOXUy7m9s2Kq3kn+ula7jvqMZiz1N7wPen2SAMf2fx2tHMQR7dxA2vtq1PYaNUoiqUc+W45N4EeLHd3B/Y3/iMS5pzcGETzG+kvgPsn5QOfaWJANswVc9X7+RafSXaKJsb2O14SgzDmtd6jjfSe2FL7653qr2kezqtpK+HbAG6sHv4y201oTlQ9hSRBslFWCLvkL+hqGtiJUb4vTtnU70YWhBz4acTzdIJXAq7h+YMz3GJfFsQvhb4PuxUkKrfC8iORZrVL6i5ziqBmPlhjlET7wzaG90wgoh5zyfxmP4pSC+h/sHR13zi2EyNt00+P17ghz0AWhTtV3q6b4DAbamvxFRlO0d7Aan3RaQ7w+ct3A9fTURw00z4YqtOsV4QuDjr2GD/733AWhTdSKGz9/hccA3sBEhUUshN2P9lh9J4Pq1M+Buor+VaGEoAbs1SsCaCZdvo4FrGDjF+C1sivFjWQeUAp8JuBtbDul0rANcFC9gneKSXMygmoDvAvbB7qylJE7H/RZKK6bm13DgNsLf9sYZ3lSrF+vxm6e3t5/DXte5GV93Y2z2X9Ryw0LsmcmohOPoAmainr6ldQbuH6rve4xL3AYRPixpCbaQY6u+VjlPnhZj/TQWU1a9qccSv0H6rdgy82lYi5z09JV0/BD3D9ZpHuOScF3ALwj/frUzVXgC1kWrD9imzRiTdDhWz077gXB1PbZXiJ54X6ock+ZohO1If9FT8ai64kDY9j2PcUk419Txk9o8768q57mkzfOk4eNYE/O0TKV/kdEo2yLsLnl0ijFJhzgT9w/aqR7jkoGOI/z7dE6b590AK1+8A0xp81xp+BiwTgrnHYH94QpbH8+1/YtobSFFIvkJ7h+273qMS+rtQ3hd8iraHyHwY/L90PVY7C41SYdgIxaiJt5XsQeUmvwgifop7h+673iMS/ptT/gU41tpf5A/WFI5mPZmzKXpGOA9CZ1rCvBnoifepdiQsqjD0ERi+RnuH76TPcYlZiq2PE3we3M/sIzHuLJ0NLB5m+eoNkgP+0Pm2u7FTxP60tFEDDfNhMuv1YHrGXhn+hSwC5aYy24ksCwDZ/rFsSdWZlkt4v6zsWRdux6bSCrOxn0H8C2PcXW68dhMtuD35DVgTY9xZe1w7HVf38KxcRukV8sN7SR7CaE7YDdNRc6f0VjCCY5ImIctuPhoAtcYRjGmtLYyFXkINnTtZOwOOopHsd4NN8W4jkSUt16iedLoa6MSRPaGYrPcgj14FwH7Yf0A2jUF6y/7uQTOlba4y9Jvj3Us+xHRku9bwBeA9VDyTY3ugN1UA86Pbmwa8M6Bj/dha3618jY8zPeB5bFprnlXrcE2+x1eAZu5eRjRh4pdjd31PttaaCLtc62c24f1BpDsuCbFfDbBa0yrnPMt8tPkvJEPYPHe6fh8NzYd+HWi13pnYK06BDjkpAAAIABJREFURbz7Je4f1DyvxVU2J5H+UMBu4O7KeU9M8Lxp2gXrafynkM9tDPyD6Il3PvZ1TmLstEgiqj0AwraveIyrk3yU8K//b0l25tXRlfM+h7WeLIp9gA/W/LuVjmU3UYySi3SYX+P+oc37cuBlsDfhieRPJP/sYipwI7aiQpHsBRxJax3LXqgcI5JLv8H9w/tlj3F1gmnY2+Lg1/3vFOsONW17YO/GbiR64q12LEu6QbpIohoNVP+Sx7jKbn3Cpxg/SOdMMY6iFxsZsojoyfd2bFiZSO5dgPsH+Yse4yqzSVgz7+DX+zlgFY9x5c1ewDNET7xvYJ3T1LFMCuN3uH+gT/AYV1mNx1bKDX6tX0MPiapWB64leuJVxzIprN/j/sH+gse4ymgUcA8Dv85vA+9N6ZonYj0RimAoVvYKq4u7NnUsk0L7A+4f7s97jKtshmIz2YJf44XYEvJp2K9yjafI10rHYXYAHiZ64p2FrYGX99cl0tAfcf+QF6FXQBF0AxcR/tb5yJSuOZT+bmofTekaSZhIvI5lfcDFqGOZlERYYqhuSU6B7WSuhU/TfIdxfOUa/yWfvVAGY3ew1ZWYo2yPMbBPhkihXYz7B76dZc7FfI3wr+0pKV5zHDYioA+byps3W2MrekRNvG9jU4iHeYhVJFWX4v7B/5THuMrgI4R/XS8g3aFS+2O15etSvEYrxmGTI5YQPflOB97tIVaRTFyG+4f/kx7jKrr3Ez554GqyKQmsAUzO4DpRVKcQv0b0xPsc1glNSiCPNbC8UD/g5G2L1daDP3f/AA7Cej+k7bEMrhHFhsBZwJYR91+ELZP1FWBuk323pf5h3H+BhyJepxeb4lzrGmzVEZHMXIH7LuTjHuMqqvWAmQz8Wj6EvQXvFGOI37HsFmCdGNfYNnD+V7BRFVEEuwD+KsZ1RRJzJe5fiOM8xlVEq2CrKwS/js8Dq3qMK2t7YSWEqIn3RaxE0UpdPPiQ8xaajw0+OHDMo6hpj3hyFe5fjI95jKtoliN8ivHrwNoZXd+3KYRPNnFtS4BzsEVIW9UN/CVw3q83ibF26Nt8YIM2ri/Slum4f0GO9RhXkfRiS+YEv37zgK0yuP4orLnP5fi5k+vBhoktIHryvRvYNKHrL4/dRdcm9p1C9hsO/DsQxzEJxSDSkqtx/5J8xGNcRTEE+DMDv3YLgd0ziuE7lWveSfadwPbCpjpHTbwzsfHlSa9UPo36evDL2EKdtc4JxHJRwjGIxHYN7l+WD3uMqwi6CG9ovxRb/icLK2MTFZaSXkMf13UvIXrirXYsG59iTN8MXPNm+uvBBwY+9zjtlT5EEtGo7Z/enjV2BuFft+MzjOHCyjV/l9H1hmB3sG8RPfn+h2z+OHQDNwSufSI2HnpOzccWYAt6inh3He5fnA95jCvvTiT8a3ZahjFsjt1ZzgPelcH14nYsm4P1E8lyHP6K1K8Zt4j+pkTVTcMrJTcaPbU+yl9YuXY4lviCX68LSb622chI4NvAV1O+zgSsfBD2ml3bdPyt7rE97vHHl3iKSSRUcAhP7Xakx7jyak/CpxjfgLWALJNubHzu60RPvI+TXn/jOKoPJmu3Z+isyTC5oanIbpqKHN0WWP/k4M/TP4F9sZEPZbEhNiU46moT87Hyy6lYjdW3GSEf+yM2CiOOHqyj3CZYU6AJWGnlAWzY3wOthyjSeKnvwz3GlTfr0t/isXZ7DBuHWhYjsCQaZwrxjcCaPoJ1CE62qK0HRx2X3Y21ap0bcp5g2Umz6KRlN+H+4TrMY1x5sjLhq/M+TzYPv7JyEPUTGpptz2J3/nnSw8Bew7W166eBZSKcZ3DNMa9jd88nYi1af4yNM65+/iayrf1LidyC+xfsUI9x5cWyhD/5n42fKaxfZmAXr3atTuPRMGF3kmeSzzu/c6mP9XzgB4GPTaf5hJXBWCI/mPBG8GOon8R0cAKxSwe6Ffcv2iH+wsqFXuBvDPy6zMNWdcjaOljyW0QyTcqHEH8V4juA9RO4dhqCky0ew/5IDGHgVPEoiw00u6tdnv7m8n9sLWTpdLfh/mXr5L/qQwifpLIYf2+7q3epP07gXNOw/rlRE29aU4iTsjr1ky3mYw8Sq1alvoaf1GSMR+n/wyQS2+24f+kO8hiXT13YW9fg12Mp/mYH7liJYRbtdT5bgXirEGcxhbhdw4B7qI87rJHU/oF9ZtD+dORq+9HpbZ5HOtRfcf/yHegxLp+CNcPq9iVP8Qyi/8FSqyspd2NJaTbRk+8jWOLPux9TH/fFDfb9WWDfdhrybFZznhPaOI90sLAaZ3XrxDW5vkT41+KnHmNaHXgSu2NrZbLHRsBdRE+81VWIizCxZE/qRznMwB6QuQwD7qX+9bbSdGoQ8Hf6yzOa4CEtCetjW9329xiXD4cRPt329/ivfQ4j/ljbVpYFmk5xhtatQv0svYVEmzgSbM7TSlP2H9Ycf0TMY0X+p/pXPGzbz2NcWduD8CnGNxI+DCnv4i4L9DzFesczmIHv3j4T4/iDAsfGWZboczXHnRXjmh1LU5HdNBXZanlhqxj/C9gHeCfziFo3GSuX7BJx/zirEOfJVOz5xV8r/36DeKNDLsIeLK5c87ENa87n8iHg9Mr/X0q04WwiTv/AfVe0j8e4srIO4VOMH6d+yfO8G078ZYFux1ZxlmiOon/c7+Xoxk4S8C/cv6B7e4wrCythU1ODr/sFkpno0I5VsaQaxfbE69P7BjYiIuvli4rsUPpr6dMpxgNKKYC7cf+i7uUxrrQtCzzEwNc8m/oB/D50YbX5p7G32i4r0tqY3jysoFwk+9P/fOAvRP/DKNJUcAB77banx7jS1IPNXAq+3nnANh7jqjqU/jvxESGfr47prX2S32zLalmgstkPG11RfSDb4zccKZvgmMjaLemmL3kwCLiCga91MfkY9TGc/rLIUSGf3xjrPxw18RZpTG/e7EZ/Tf0ObAUSaYGK5W6dNAqiC/gFAx8u9gEfwx6s+PYFbBzufVi5oGosturvJ+hf6beZqyv7P5tkgB1iInAl9oerD2tHenqD/Wfjb6akFNh9uO+edvMYVxpOI/x1nugzqBrj6G8kvn3Nxw+gvv9ss+0JYPfMoi6nKUT/evdh46jFQXfAbo1meC3NLIr0fZLw+fpnA9/NOBaXmdgEgR2xPs2TsYH+O0c8vqhjevNoFvC9GPu/mVYgUm4P4P6r/j6PcSXpUPrHb9Zuf8D/FOMwrfTpvQ1bNklECuRB3L/UUe+88mwnbCZb8LXdTD6nGG9LvD69GtMrUmBhY2Gr204e40rCpsBbDHxd/yJ/y+mMA84hvBlQ2FYd07usj2BFJBmN7raK0AvWZQrwCgNf0wzyNcW4C+um9RrR73rvA7b0EayIJOsR3L/o2zc4Ls8mEj7F+BUsMefFuljPiaiJ903gs0QfhiYiOVdd0ypsm+YvrJaNIXxo3RysMXke9BC/cc50rD+EiJTIY7h/6bfzGFcreghf4+4d8lPP3p7G7zqC2wsUq0+viMTQ6C3wth7jimsQcBkDX8Ni8pHA4i6GuQhbzSJvDwtFJEEzcCeBPDSmiaILOI/w1+C7YXb1IVtYz2HXdg+wiY9gRSRbT+JOBFt5jCuOUwiP/2s+g8JaSTZa8im4zcaW1dFDNpEO8RTuhFCE9oUfJzz2sz3G1Is9ZAubANLoIdvKIecSkRJ7GndSyPtY04MJn2J8Bf7uIvek8dc0uD0B7OojUBHx7xncySHKEt++7ED4MK5b8DPFeCLxHrItxB6yqcesSAd7FneS2NxjXI1sQvgU4/uxvrlZGoRNjqi2kYyy/RU1zhERrI+pK1Fs6jEul8mE98Z9AhvqlaUNaLyqdHCbgz1ky2MHNhHx4AXcCSNvQ6EmEv7Q8FVgjQzjqM5kq64VFmV7srL/URnGKSI59yLupPEej3EFjQb+Tfhd5cYZxrE9jadvB7fHseWOlmCjIvLUi0JEPHsJd/LIMrE10oM1HA/G9w7Z9SyeQPyHbKdii2zeUPnY9zOKVUQKotFaY3loXjMIuJSBsS3B1kpLWxfwIeLNZLuZ/pLI3pWPvYH1/BUR+Z9XcSeSDT3GBf2rGIfF9ukMrr86/XevUbaZDFyd4p7K5z6ZQbwiUjCNGoFP9RgXwMmEx3VSytdtZU22i4HlQ841EZsqrYVhRWSA13EnlfU9xnWcI6ZzUr7ue2m8Tl7Y6IZdUo5JREqqUW1zPU8x7YO1kQzGcxXp3UmOwWamhU1tDtuq7SI1k01EWjYTd5LxMVtre8KnGN+KjShIw140nhEY3O4lf2OkRaSAZuFONOtkHMtURzz3A8ukcL2JhI+wcG1vY7VhtYsUkUTMwZ1w1sowjtUJHxL3JLBiwtfqxkYrNHrtwe1q4F0Rzj0NuJP8d5ITkRxo1ERmzYxiGE/42nSvpRBD3CbpL2ErWkTRDdxdOe7/Eo1aREoprKtYdcuiv8JorKYavPabJDsVutq/IWqT9KXYzLdlY1zj6Mqxz2FN2UVEGpqLOwml3bdgKPCXkOsuJNmhXdsRbyXix7B+w3H00v8g75BEohaR0nsbdyKanOJ1u7HJC2F3nocndI1lsHHDS0OuE7ZV+ze00tD9m5Vz3EX9TDgREadGs70mpXjdHzuu+dmEzn8AjadZB7e/Amu3cb3jsDHVRVhHT0RyImzMbXVbLaVrVu8Wg9u3Ezj3JOB6x/nDtlkk1yR9RALnEJEO0uih1LtTuN5HHdf6De29dR+MJdJGNe3gNh1YqY1rioi0pdGqDu9K+Fp7Ez7F+E+0N8V4Y/qHf0XZngf2beN6IiKJWIQ7Ua2a4HWmEV5v/jutD9kaDfyUeP0bTkelAhHJiUbJa+WErrE+4VOMH6D1KcZx+zfcB2zW8isYaChwIBrxICJtaDREK4n66CTClz16DlilhfNNBC5xxBu2zcP6NyTdRe3zlfNfkPB5RaSDNEpeE9s893jCF7B8jfh9Jlrp33At6TxIHEd/G0/1AhaRljVKYO00wRlF/3I8tdvbxG9UMxWb4BA18b5M9P4NrfgJ/QleRKQl3TROZCu0eN6hhI/FXQjsGuM8vcBpNH5QWLstBc4jndaVVWtir2Mx/hrWi0gJDKJxQgtb46yZbuCikHMtBY6McZ7tCS9fuLbHgR1biDeuMyvXOzuDa4lIiQ2mcVIb38I5f+Q41+cjHj8B60IWNfG207+hFYOwZepb+eMkIvI/Q2ic3JaLeb6vO85zSoRju7C6baNVmoPbX8l+1Q4RkUQMpXGCi9ML91jHOS6g+VjZKcCNTWKp3ZLs3yAi4sUwGie6cRHP837CH5RNp/H42yHYGN1GDYGC28Xo7b+IlEAPjZNdlNEE2xE+xfguGk/5nUa8JulP4G/MrRbhFJHE9dI46Y1pcvx6hC9r/xDuu+e4TdIXYSMPRrbw+pKwKvAM1u9XRCQxI2ic/EY3OHYVwnsxPEd4E5/qQ7Y4TdLvBTZp4/Ul4cJKLL/zHIeIlMxIGifAUY7jliO8fPA64atKxH3INherDft+678Zdqc+n+Rbc4pIhxtF40QY9ra/F7gzZN+3ga0C+1ZXIo7zkG06ybbBbMdfsZhO9h2IiJTPGBonw+BDtCHAn0P2WwjsFth3F2BGk/MHSxf7JPni2nQgFtcrNC7FiIi0ZCyNk2JPzb5d2LJBwX2WAkfX7LcC8WayLcEeyuUtyW2C3el/xHcgIlJOy9A4OQ6v2fcMxz5fqHy++pDt9SbnDD5kS7JJetK60GQPEUnJOBonyGp/ha84Pn9a5fNTsaWFivaQTUTEm2VpnCiHAocTPmb3d9hDupNovLJy2EO2VlbCEBEplfE0Tpb7ED7F+AZsVeGnmxxfuz0J7J7JqxIRKYDlaV4qCH7s38DlTY6r3XzPZIvjU6jPhIhkZALRE2kfNovtrRj730FxVo3YBYv5GZJfwFNEZIAViJ5M49R5i9YuchBwPxZ71MbxIiJtWZF4d8BRtiK2izwOi/0JsltZQ0Q63Eokl3gfB96XbfiJGAW8hL2G/TzHIiIdZGXaT7zzgW9Q3DvH/bEVjm/zHYiIdJZVaJxcm/XsvZXw7mdFsz6wru8gRKSzrEprd71vYGvANVvrTUREHHqBbxE+2cJ1R/xb4q+WLCIiIYYT3uUsbHsQGzkhIiIJOpZod8IvAFt6ijEprpU+RES8mUa0NdsWUNw+uT3AU1gzobz1IBaRDrcqcDfRShLnYB3TiqTaWvPfFGemnoh0kBHYjLYoSfgOilMXXh6Yg8W9k+dYREScurCm6YuJVhfewk+YsZyLxXuF70BERKLYBZhJtLrwhz3FGMU62EPGhcAanmMREYlsdeABil0XXgY4Hfie70BEROIaCVxC9LrwCn7CFBEppzh14eeBzf2EKSJSXrsSvS58jKcYRURKazLx6sJD/IQpIlJOI4FLiZaE/0r2deFPAjtkfE0RkcxU68JLiFYX3iyjuFbHSiBLKv8vIlJau2GLcUapC38og3iqd+a/zOBaItJAXhuHD8FWY3gPMB4YA4zFlkWfXdlmAv8B7gXm+QkzssnAlURbXeJcrESwKIU43osNhXsbm3TxUgrXEJEC6sXuAG/DEmqU+mkflqjuBb5Ivhuix6kL3w5MSPj6XcA/K+f/WsLnFpGCGgWcQrS36VHexv8KmJjpK4guTl34OZKtC0/Cas3PYX/sRKTDbQE8Q/QEG2WiQx/W2evADF9HXLsT7Q/OfODoBK87AtggwfOJSEHtg92xupLPI9hb5a2wOnC1R+0ywMbA54A7GxzfB3w5m5fSkinAQ2i8sIhkbBvgHcKTzUzgg0RvCr4T8KTjXH3AR5MMPGGjgMuJloRvI/m6sIh0mDFYHTIsyTyGjRiIa1nswZWrLhxl9IEvcevCm/oJU0TK4BTCk8ssYM02zjsOmOE49/VtnDcrexC9LnxUxHNOQKULEakYQf/SN8HtuATOP81x7j5gwwTOn7Y1SLYufBNWS5+aUrwiUiAHE55MngeGJXSN2xzXOC2h86ctbl14ecd59q7s8wb27kBEOtw5hCeSsxK8xicc17gnwWukLU5d+Flgk8DxQ4BHK5//RDYhi0je3UJ4EjkgwWus47jG3ASvkZU9sWnXUerCR9Yc99nKxx9GNWARqfgv4QkkeAfXjuGOa/Rh04GLZg3cX7ewuvBgbOz0P7EELiICwGuEJ45JCV9nruM6RW2/OApbMj5KEr4VqwvntdGSiHjyCuFJo5Wxv43Md1znXQlfJ0tx68Lv8ROmiOTV/YQnjCQXqRzpuEYf0JPgdXzZi+h14SM8xSgiOXQj4cnisASvsZHjGnMSvIZva2IP2OLUhUUkZ6L2W0jKQ46PT0vwGjs6Pn5/gtfw7VHsXcNVEfY9FrgBa2gkIh1sT8Lv0l7DZsm1qwtrzh52ja8ncP68iVMXnoGtMiIiHWoI8DLhCeKEBM5fnf0V3Mq+AOVeuKd4125vkeyYaxEpmBMITw7zsPptq1bGndx/38Z5i2ItotWFlwKnAoP8hCkiPg0DHiQ8OTxHa0l4NdwjLGYDK7UddTGMxurCUR7OXYc1txeRDrM27qFU84DjiVYTHgIcA7zuONdirM1jJ+kCTsLudKPUhdfzEqWIeLU51qnLlRxeBX6BDVHbHJsttwp2h7w/8GMarye3EDgks1eTPwfinhEYrAt/wFOMIuLRJOAfRHvLHGd7Cnhvhq8jr6YCT6C6sIg4dAMfJnrDmUbbC8BX0bLrtcZhK4KoLiwiTl3A9sCvsbXhoibd54HLsLfRar0YbhB2hxulLvw4qguLZCLPHbPGYcvPj8fuysZiU2pnYQ/wZgL3YXe9eTQCOJH6t/VnAi9FPP4D1LfpvAe4pM2YDgJ+SfMHnHOxdecua/N6IiLefJX6u8tbiVZn3RR4p+a4WdhQuyTErQtnPV1dRCQR3QysvzabEj0WeJL6RLhvwnGNA/5C8yTcB1xbiUlEpHCWx8ok1YS2BNipwf6XUZ8Af5RSXNW6cJQk/BiwbkpxiIikajtsUkg1ob0MrBCy36eoT3x3k9xq0S4HA2/TPAm/BeyXciwiIqn4JvUJ7Wbq68FTqV/J401sPbgsbEB92UN1YREplW6sL29tQvu/yudGAo8EPndoxvEtGxKfa7sG1YVFpGAmYMPQqolsEbAN8DvqE9xZnuKLWxdex0+YIiKt2Zn6BupvUZ/Y7gOGe4vOHEK0uvCbJD9CQ0QkVd/B/aBrLY9x1doQ66mhurCIlMpg4A4GJrMP+gwqxLK4F1INblcDY/yEKSIS3TIMvLtcDGzZ4vkmYUsNnYqtgnwOtv5eEgYTvS78KKoLi0jOBSdbVLdnsbvOqL6I9cQIO9c3EowXbFRG1LrwPglfW0QkEcHJFm8G/n0F0ZsknVNz3ELsAV5aCRhUFxaRAgtOtpgFTAHupD6BfTri+Q4CPop1TRuKdTlLMwEDLAfcRPMk3AdMR3VhEcmBsMkW1SFcq1K/PNMC4D0tXCOLBAzx68JrpxiLiEhTwckWPw58fv/A52cQ/+4xqwRc9UFsEdVmSXgOqguLiCfHUp+Q/gP0hOz3s8B+F8e8TtYJGGyR1KdpnoRVFxaRzK1L/eiBt4A1HfsOA+6lPnF9JMa1fCRgiFcX/hOqC4tIBkYAD1GfgA5rcsxk7C17df/5WLeyqNfzkYAhXl34EfIz409ESurX1CeeX0Q87qDAcY8CoyIc5zMBVx1G9Lrw3p5iFJGSO5j6hPMg0Bvj+F8Fjv9VhGPykIDBFlN9muZJuFoXzvPisCKpGew7gBKbAxxY8+9/YXeGUX0KuC7wsd6Y5/DlXmxh0YuA7Rvs1wV8CRumdjg2KUVEpJDycgdcFacu/DCqC4tIgeUtAVfFqQu/31OMIiJtyWsCBqsLP0PzJLwYK0uoLiwihZLnBAwwHriFaCWJi7DXIyJSCHlPwBCvLvwfrNexiEjubAI8UbPVLi0/M/C5n3uK0eUI6jvDubY3gPd5ilFExGlrot1J9mF9hvPmvcCLqC4sHUo/0MW2HI3H2dZ6Aes7nDcTgUuJthzTRcAxWG8NERFJwDDgXKLXhVfzE6aISHkdC7xD8yT8OrCzpxhFREorbl1YREQSNBH4O9FKEn8gXpMjERFpYhjWvjNKEr4P1YVFRBIXpy68k6cYRURKayvgJVQXFhHxYiXgLqKVJH6P6sIiIokaBpxHtCT8b+DdXqIUESmxOHXhHT3FKCJSWlsTrS68CNWFRUQSF6cufCGqC4uIJGoY8EuiJeF7UV1YRCRxxwILaZ6EXwN28BSjiEhpbQO8jOrCIiJerAz8g2glid8BPX7CFBEpp+HAr4heF36XnzBFRMorTl046soiIiISkerCIiIerQz8k2gliQtQXVhEJFHDgfOJloTvAVb1E6aISHlFrQu/iurCIiKJ2xZ4BdWFRUS8WAX4F9FKEr9FdWERkUQNB36N6sIiIt7EqQtP8xOiiEh5bYfqwiIi3qwC3E20ksQ5wFA/YYqIlNNw4DdES8J/A1b0E6aISHkdi5UbmiXhF4AtPcUoIlJa07AHb82S8ALgI35CFBEpr1VRXVhExJsRwMVES8J3oLqwiEiiurDhZ4uJVhfewk+YIiLltQswk2h14Q97ilFEpLRWBx5AdWERES9GApcQvS68gp8wRUTKKU5d+Hlgcz9hioiU165Erwsf4ylGEZHSmky8uvAQP2GKiJTTSOBSoiXhv6K6sIhIoqp14SVEqwtv5idMEZHy2g2YRbS68Ic8xSgiUlqTgQdRXVhExIs4deHbgQl+whQRKac4deHnUF1YRCRxuxOtLjwfONpTjCIipTUFeAjVhUVEvBgFXE60JHwbqguLiCQqbl14Uz9hioiU1x5Erwsf5SdEEZHyWgPVhUVEvIlbF17eT5giIuUUpy78LLCJnzBFRMprT2A20erCR3qKUUSktNYA/kv0uvBgP2GKiJTTKOAKoiXhW1FdWEQkUXHrwu/xE6aISHntRfS68BGeYhQRKa01gYdRXVhExIvRwJVES8K3AOP9hCkiUk5x6sIzgPX9hCkiUl57AXNonoTfAg7wFKOISGmtRbS68FLgVGCQnzBFRMppNHAV0erC1wHL+AlTRKScuoCTsDvdKHXh9bxEKSJSYgcCc4lWF/6ApxhFREprKvAEqguLiHgxDrge1YVFRLwYhN3hRqkLP47qwiIiiTuI6HXh/T3FKCJSWnHrwt1+whQRKadxwF+IVhe+FhjrJ0wRkXKq1oWjJOHHgXX9hCkiUl4HA28TrS68n6cYRURKawPgSfzVhbWEkoh0tGWBG4hWkriGZOvCOwMfSfB8IiKFE6cu/BiwTkLX3RwbHrdGQucTESmsQ4hWF34T2DeB661dOd/dwJAEziciUmgbkl1deKWa853UxnlEREpjWeBGopUkrgbGtHidUTXnWQRs2VbUIiIlMZjodeFHaa0u3AUsrjnPDGBku4GLiJTFoUSvC+/TwvlnBc5zXvshi4iUx4bAU6RTF3425DxaQFREpMZywE1EK0lMJ3pd+IGQ418DVkwwdhGRwotbF147wjn/5jj+eqxGLCIiNT4IzKN5Ep5D87rwdQ2O/2QKsYuIFN5GwNO0Xxe+qMGx84h2Fy0i0nHi1IX/RHhd+BdNjrsXGJrmixARKao4deFHgLUCx58e4bhT0n4RIiJFdhjR68J71xx3UoRjlgDbZ/AaREQKa2Pi1YW7gM9H2L8PeA5YJrNXIiJSQOOBm4mWVK8CPhVx3z7gggxfh4hIIcWpCz8fcb/qdkiGr0NEpLCi1oXjbLOAVbN8ESIiRbUx8AzJJuHbSH59OhGRUhoP3EKySfgLmb4CEZECGwX8iOQS8AJgaqavIAVqdiEirdgWWxeuFxgNDMeaqY8ChlU+NqLy8VZXzGjmAWAzLBmLiHSM35JsSaHV7Yy0X6iISN48hf/k24ezQPzzAAAEMElEQVRN6tgp5dcqIpIbQ4BrsCnCvhNwHzaWeFyqr1hEJGdWxyZcBNd187FdnvJrFRHJpdHAZ/Bfljgy7RcqIpJX3cBewA34ScBvAZNTf5UiIjm3EXAOyU9FbrbdAQzK4PWJiOTe8sCXiN90p53txExemYhIQQwFDgDuIv0EvAiboCEiIgFbAxdjiTKtJPw4NjNPRERCrIYNY5tJOkn4Z9m9FBGRYhoJHAv8l2QT8FJgzwxfh4hIYXVj04qnY8kziST8KjAhyxchIlJ0awBnAm/TfhK+HnV+FJGM9QArYX1z1wKWo3iJaCw2y+5Z2kvCn8g6cBHpLN3A3sC5wAzCE9Ec4E/AR7EEXRRDsGFsf6O1BDwXWDPzqEWkI3wAeIh4Sekl4CM+gm3Te7B+xAuJ93rvxhK5iEgihgI/p72357+onKdoVgW+B7xB9Nd6ko9ARaR8BmMPmIJJZgHwO+AoYFOsQc16wG7A6YS3jzw329ATNQw4AniQ5gl4EbClnzBFpEzOZGCCuQJYoclxY7H+ucFjj0wt0mx0AbsAt9N4GNsMNEtORNqwPQMTy9lEH+XQjSXr2uOfw+4my2Ay9gdqLuFJ+Dx/oYlI0d1KfUK5l/htGJcBZgfO86HkQsyFZYAvAs8wMAnv6zEuESmoDRmYTPZo8Vw/DJznsiQCzKHB2DC2O+h/ra8BK/oMSkSK5wTqk+brWIJpxW4h5yraZI24Nsaaxc8H/kL5X6+IJOha6pPmjW2ca00G3k0v026ABTEBaxa/v68AlPlFiudhbGpx1RvA0y2eawg2VbnWFGykQKfoxkZNZK7Vty0i4s9ygX8vW9mSMjbBcxWBl+QLSsAiRTQm5fM3emc8CBvitQH2MHA9+ntKXIzNqpOIlIBFimcO9XfBfwR+meD5H3V8/CZgc2CE4/P3JhhDR1ACFime16hPwO0+iItqI+qT71KsX++oDK5dSt2+AxCR2IIPyDbN6Lp/B87CWlluAYwGfpDRtUtJd8AixXM9sFfNvycD6wMPpHzdVid7iIPugEWK5xoGPrk/0Ucg0h4lYJHieRq4IPCxg7DVMKRAlIBFiunr2AOwqi7gD7SehKs9dd/dXlgShxKwSDE9CxwCLKn5WA9wJXAhNmKhmWHA+4CfYK0of8PASR6SIj2EEymu6diabj+nfkmhQyvbk8A/sWQ9C/t9H4N1AFsXWIdiLkVUGkrAIsV2PnA/Vn6YEvjcpMomOaUShEjx3YM11DkWeKSF41/DEvluwH0JxiVN6A5YpBwWYH0YzsP6M2wDbAashDXqGVPZZx7wAjaZ4xHgb5X/9mUfsigBi5RLHzYh4wFs1prkmEoQIiKeKAGLiHiiBCwi4okSsIiIJ3oIJyJRrYNN4KhV+++1sKXfaz2KjVMWEZE2fIOBKyg3207zEmlBqAQhIuLJ/wOj0/lwARjcPwAAAABJRU5ErkJggg==)"
      ]
    },
    {
      "cell_type": "markdown",
      "metadata": {},
      "source": [
        "## Prerequisites"
      ]
    },
    {
      "cell_type": "markdown",
      "metadata": {},
      "source": [
        "Import following libraries on your notebook"
      ]
    },
    {
      "cell_type": "code",
      "execution_count": null,
      "metadata": {},
      "outputs": [],
      "source": [
        "import plotly.graph_objects as go\n",
        "import numpy as np"
      ]
    },
    {
      "cell_type": "code",
      "execution_count": null,
      "metadata": {
        "nbsphinx": "hidden"
      },
      "outputs": [],
      "source": [
        "def create_line_trace(start, end, color='blue', width=2, name='', dash='solid', showlegend=False):\n",
        "    line_trace = go.Scatter3d(\n",
        "        x=[start[0], end[0]],\n",
        "        y=[start[1], end[1]],\n",
        "        z=[start[2], end[2]],\n",
        "        mode='lines',\n",
        "        line=dict(color=color, width=width, dash=dash),\n",
        "        name=name,\n",
        "        showlegend=showlegend\n",
        "    )\n",
        "    return line_trace\n",
        "\n",
        "def create_point_trace(point, color='red', size=5, name=''):\n",
        "    x, y, z = point\n",
        "    trace = go.Scatter3d(\n",
        "        x=[x], y=[y], z=[z],\n",
        "        mode='markers+text',\n",
        "        marker=dict(color=color, size=size),\n",
        "        text=[name],\n",
        "        textposition=\"top center\",\n",
        "        showlegend=False\n",
        "    )\n",
        "    return trace\n",
        "\n",
        "def create_arrow_trace(start, end, color='blue', name='', showlegend=False):\n",
        "    # Create arrow shaft trace\n",
        "    shaft_trace = go.Scatter3d(\n",
        "        x=[start[0], end[0]], y=[start[1], end[1]], z=[start[2], end[2]],\n",
        "        mode='lines',\n",
        "        line=dict(color=color, width=5),\n",
        "        name=name,\n",
        "        showlegend=showlegend\n",
        "    )\n",
        "\n",
        "    # Create arrowhead trace\n",
        "    vec = np.array(end) - np.array(start)\n",
        "    length = np.linalg.norm(vec)\n",
        "    vec_normalized = vec / length if length > 0 else vec\n",
        "    arrowhead_size = 0.1 * length\n",
        "\n",
        "    head_trace = go.Cone(\n",
        "        x=[end[0]], y=[end[1]], z=[end[2]],\n",
        "        u=[vec_normalized[0]], v=[vec_normalized[1]], w=[vec_normalized[2]],\n",
        "        sizemode=\"absolute\", sizeref=arrowhead_size, showscale=False,\n",
        "        anchor=\"tip\", colorscale=[[0, color], [1, color]]\n",
        "    )\n",
        "\n",
        "    return [shaft_trace, head_trace]\n",
        "\n",
        "def create_3d_layout(title='3D Plot', gridcolor='lightblue', xaxis_title='X Axis', yaxis_title='Y Axis', zaxis_title='Z Axis'):\n",
        "    layout = go.Layout(\n",
        "        title=title,\n",
        "        scene=dict(\n",
        "            xaxis=dict(showbackground=False, showgrid=True, zeroline=True, zerolinewidth=2, zerolinecolor='rgba(0,0,0,0.5)', showticklabels=True, gridcolor=gridcolor, title=xaxis_title),\n",
        "            yaxis=dict(showbackground=False, showgrid=True, zeroline=True, zerolinewidth=2, zerolinecolor='rgba(0,0,0,0.5)', showticklabels=True, gridcolor=gridcolor, title=yaxis_title),\n",
        "            zaxis=dict(showbackground=False, showgrid=True, zeroline=True, zerolinewidth=2, zerolinecolor='rgba(0,0,0,0.5)', showticklabels=True, gridcolor=gridcolor, title=zaxis_title),\n",
        "        ),\n",
        "        scene_aspectmode='cube'\n",
        "    )\n",
        "    return layout\n",
        "\n",
        "def create_orthonormal_frame_traces(frame_name='e', origin=[0, 0, 0], length=1, color='blue', rotation_matrix=np.identity(3)):\n",
        "    # Define standard basis vectors\n",
        "    i = np.array([1, 0, 0])\n",
        "    j = np.array([0, 1, 0])\n",
        "    k = np.array([0, 0, 1])\n",
        "\n",
        "    # Apply rotation\n",
        "    i_rot = np.dot(rotation_matrix, i)\n",
        "    j_rot = np.dot(rotation_matrix, j)\n",
        "    k_rot = np.dot(rotation_matrix, k)\n",
        "\n",
        "    # Create traces for rotated axes with arrows\n",
        "    frame_traces = []\n",
        "    frame_traces.extend(create_arrow_trace(start=origin, end=np.array(origin) + length * i_rot, color=color, name=f'{frame_name}_x'))\n",
        "    frame_traces.extend(create_arrow_trace(start=origin, end=np.array(origin) + length * j_rot, color=color, name=f'{frame_name}_y'))\n",
        "    frame_traces.extend(create_arrow_trace(start=origin, end=np.array(origin) + length * k_rot, color=color, name=f'{frame_name}_z'))\n",
        "\n",
        "    return frame_traces\n",
        "\n",
        "def animate_particle(curve_points, particle_name='Particle', particle_color='red', particle_size=6, animation_speed=10):\n",
        "    # Creating frames for animation\n",
        "    frames = []\n",
        "    for i in range(0, len(curve_points), animation_speed):\n",
        "        frame = go.Frame(data=[go.Scatter3d(\n",
        "            x=[curve_points[i][0]],\n",
        "            y=[curve_points[i][1]],\n",
        "            z=[curve_points[i][2]],\n",
        "            mode='markers+text',\n",
        "            marker=dict(color=particle_color, size=particle_size),\n",
        "            text=[particle_name],\n",
        "            textposition='top center',\n",
        "            textfont=dict(size=15)\n",
        "        )])\n",
        "        frames.append(frame)\n",
        "\n",
        "    return frames\n",
        "\n",
        "def create_particle_animation(curve_points, title='Particle Animation', name='P', origin=[0, 0, 0]):\n",
        "\n",
        "    # Validate curve_points\n",
        "    if not isinstance(curve_points, np.ndarray):\n",
        "        raise ValueError(\"curve_points must be a NumPy array.\")\n",
        "    if curve_points.size == 0 or curve_points.ndim != 2 or curve_points.shape[1] != 3:\n",
        "        raise ValueError(\"curve_points must be a non-empty 2D NumPy array with 3 columns (x, y, z coordinates).\")\n",
        "\n",
        "    traces = []\n",
        "    frames = []\n",
        "\n",
        "    x_vals, y_vals, z_vals = zip(*curve_points)\n",
        "\n",
        "    # Add initial point and origin 'O'\n",
        "    traces.append(create_point_trace(curve_points[0], color='green', size=8, name=name))\n",
        "    traces.append(create_point_trace(origin, color='black', size=3, name='O'))\n",
        "\n",
        "    # Set layout for the figure\n",
        "    layout = create_3d_layout(title=title, xaxis_title='X Axis', yaxis_title='Y Axis', zaxis_title='Z Axis')\n",
        "\n",
        "    # Add path trace\n",
        "    traces.append(go.Scatter3d(\n",
        "        x=x_vals, y=y_vals, z=z_vals,\n",
        "        mode=\"lines\",\n",
        "        line=dict(color=\"blue\", width=2),\n",
        "        name='Path'\n",
        "    ))\n",
        "\n",
        "    # Animate the particle\n",
        "    frames = animate_particle(curve_points, name, particle_color='green', particle_size=8, animation_speed=1)\n",
        "\n",
        "    fig = go.Figure(data=traces, layout=layout, frames=frames)\n",
        "\n",
        "    # Adjust the camera settings\n",
        "    fig.update_layout(\n",
        "        scene=dict(\n",
        "            camera=dict(\n",
        "                up=dict(x=0, y=0, z=1),  # Sets the up direction (in this case, the z-axis is up)\n",
        "                center=dict(x=0, y=0, z=0),  # Centers the view on the given coordinates\n",
        "                eye=dict(x=1, y=-1.25, z=1.25)  # Sets the position of the camera\n",
        "            ),\n",
        "            aspectmode='cube'  # Keeps the aspect ratio of the axes fixed\n",
        "        )\n",
        "    )\n",
        "\n",
        "    # Add play and pause buttons\n",
        "    fig.update_layout(\n",
        "        updatemenus=[\n",
        "            dict(\n",
        "                type=\"buttons\",\n",
        "                buttons=[\n",
        "                    dict(label=\"Play\",\n",
        "                          method=\"animate\",\n",
        "                          args=[None, dict(frame=dict(duration=50, redraw=True), fromcurrent=True)]),\n",
        "                    dict(label=\"Pause\",\n",
        "                          method=\"animate\",\n",
        "                          args=[[None], dict(frame=dict(duration=0, redraw=False), mode=\"immediate\")])\n",
        "                ]\n",
        "            )\n",
        "        ]\n",
        "    )\n",
        "\n",
        "    return fig"
      ]
    },
    {
      "cell_type": "markdown",
      "metadata": {},
      "source": [
        "<div class=\"alert alert-info\">\n",
        "\n",
        "Note\n",
        "\n",
        "The functions `create_line_trace`, `create_point_trace`, `create_arrow_trace`, and and others were written in previous tutorials. Please include them in your notebook on top before starting to follow this tutorial. You can download it by clicking the Download icon on the Navigation Bar.\n",
        "\n",
        "</div>"
      ]
    },
    {
      "cell_type": "markdown",
      "metadata": {},
      "source": [
        "## Steps"
      ]
    },
    {
      "cell_type": "markdown",
      "metadata": {},
      "source": [
        "### Step 1: Define the Origin and Point P"
      ]
    },
    {
      "cell_type": "markdown",
      "metadata": {},
      "source": [
        "Here, we define the coordinates of the origin ($O$) as $[0, 0, 0]$ and the coordinates of point $P$ as $[2, 3, 4]$."
      ]
    },
    {
      "cell_type": "code",
      "execution_count": null,
      "metadata": {},
      "outputs": [],
      "source": [
        "origin = [0, 0, 0]\n",
        "point_p = [2, 3, 4]"
      ]
    },
    {
      "cell_type": "markdown",
      "metadata": {},
      "source": [
        "### Step 2: Create Traces for Points"
      ]
    },
    {
      "cell_type": "markdown",
      "metadata": {},
      "source": [
        "We create traces for the origin ($O$) and point $P$ using the `create_point_trace` function, specifying their colors, sizes, and names."
      ]
    },
    {
      "cell_type": "code",
      "execution_count": null,
      "metadata": {},
      "outputs": [],
      "source": [
        "traces = []\n",
        "traces.append(create_point_trace(origin, color='black', size=3, name='O'))\n",
        "traces.append(create_point_trace(point_p, color='green', size=3, name='P'))"
      ]
    },
    {
      "cell_type": "markdown",
      "metadata": {},
      "source": [
        "### Step 3: Create Traces for Point Projections on Axes"
      ]
    },
    {
      "cell_type": "markdown",
      "metadata": {},
      "source": [
        "We create traces for the projections of point P onto the coordinate axes $(x_1, x_2, x_3)$ using the `create_point_trace` function."
      ]
    },
    {
      "cell_type": "code",
      "execution_count": null,
      "metadata": {},
      "outputs": [],
      "source": [
        "traces.append(create_point_trace([point_p[0], 0, 0], color='green', size=3, name='x1'))\n",
        "traces.append(create_point_trace([0, point_p[1], 0], color='green', size=3, name='x2'))\n",
        "traces.append(create_point_trace([0, 0, point_p[2]], color='green', size=3, name='x3'))"
      ]
    },
    {
      "cell_type": "markdown",
      "metadata": {},
      "source": [
        "### Step 4: Create Line Traces"
      ]
    },
    {
      "cell_type": "markdown",
      "metadata": {},
      "source": [
        "We create line traces to represent the vectors $OP$, $P$ to $e_1$, $P$ to $e_2$, and $P$ to $e_3$ using the `create_line_trace` function."
      ]
    },
    {
      "cell_type": "code",
      "execution_count": null,
      "metadata": {},
      "outputs": [],
      "source": [
        "traces.append(create_line_trace(origin, point_p, color='blue', name='OP'))\n",
        "traces.append(create_line_trace(point_p, [point_p[0], 0, 0], color='blue', width=2, dash='dash', name='P to e1'))\n",
        "traces.append(create_line_trace(point_p, [0, point_p[1], 0], color='blue', width=2, dash='dash', name='P to e2'))\n",
        "traces.append(create_line_trace(point_p, [0, 0, point_p[2]], color='blue', width=2, dash='dash', name='P to e3'))"
      ]
    },
    {
      "cell_type": "markdown",
      "metadata": {},
      "source": [
        "### Step 5: Create Orthonormal Frame Traces"
      ]
    },
    {
      "cell_type": "markdown",
      "metadata": {},
      "source": [
        "We create traces for the orthonormal frame $(e)$ using the `create_orthonormal_frame_traces` function and extend the traces list with these frame traces."
      ]
    },
    {
      "cell_type": "code",
      "execution_count": null,
      "metadata": {},
      "outputs": [],
      "source": [
        "frame_traces = create_orthonormal_frame_traces(frame_name='e', origin=origin, length=5, color='red')\n",
        "traces.extend(frame_traces)"
      ]
    },
    {
      "cell_type": "markdown",
      "metadata": {},
      "source": [
        "### Step 6: Set Layout and Create the Figure"
      ]
    },
    {
      "cell_type": "markdown",
      "metadata": {},
      "source": [
        "We set the layout using the `create_3d_layout` function, specifying the title and axis titles. Then, we create a Plotly figure (`fig`) with the defined traces and layout."
      ]
    },
    {
      "cell_type": "code",
      "execution_count": null,
      "metadata": {},
      "outputs": [],
      "source": [
        "layout = create_3d_layout(title='Point P in 3D Inertial Frame e', xaxis_title='e1 Axis', yaxis_title='e2 Axis', zaxis_title='e3 Axis')\n",
        "fig = go.Figure(data=traces, layout=layout)\n",
        "fig.show()"
      ]
    }
  ],
  "metadata": {
    "kernelspec": {
      "display_name": "base",
      "language": "python",
      "name": "python3"
    },
    "language_info": {
      "codemirror_mode": {
        "name": "ipython",
        "version": 3
      },
      "file_extension": ".py",
      "mimetype": "text/x-python",
      "name": "python",
      "nbconvert_exporter": "python",
      "pygments_lexer": "ipython3",
      "version": "3.9.12"
    }
  },
  "nbformat": 4,
  "nbformat_minor": 2
}
