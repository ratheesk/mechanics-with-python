{
  "cells": [
    {
      "cell_type": "code",
      "execution_count": null,
      "metadata": {
        "nbsphinx": "hidden"
      },
      "outputs": [],
      "source": [
        "# This is included for documentation purpose, not a part of this tutorial\n",
        "import plotly.io as pio\n",
        "pio.renderers.default = \"plotly_mimetype+notebook\""
      ]
    },
    {
      "cell_type": "markdown",
      "metadata": {},
      "source": [
        "# A Line in Space"
      ]
    },
    {
      "cell_type": "markdown",
      "metadata": {},
      "source": [
        "In this tutorial, we will learn how to draw a line in 3D space using Plotly in Python. Specifically, we will connect a particle to the origin with a line, building on the previous tutorial where we plotted a particle and the origin."
      ]
    },
    {
      "cell_type": "markdown",
      "metadata": {},
      "source": [
        "## Plotting a Line in 3D Space"
      ]
    },
    {
      "cell_type": "markdown",
      "metadata": {},
      "source": [
        "### Step 1: Importing Plotly"
      ]
    },
    {
      "cell_type": "markdown",
      "metadata": {},
      "source": [
        "First, we need to import Plotly’s graph objects module, which is used for creating a wide variety of plots, including 3D plots."
      ]
    },
    {
      "cell_type": "code",
      "execution_count": null,
      "metadata": {},
      "outputs": [],
      "source": [
        "import plotly.graph_objects as go"
      ]
    },
    {
      "cell_type": "markdown",
      "metadata": {},
      "source": [
        "### Step 2: Define the Points"
      ]
    },
    {
      "cell_type": "markdown",
      "metadata": {},
      "source": [
        "Define the coordinates for the two points you want to connect with a line. In this example, we will use points $A=(1, 2, 3)$ and $B=(4, 5, 6)$."
      ]
    },
    {
      "cell_type": "code",
      "execution_count": null,
      "metadata": {},
      "outputs": [],
      "source": [
        "# Coordinates of Point A and Point B\n",
        "point_A = [1, 2, 3]\n",
        "point_B = [4, 5, 6]"
      ]
    },
    {
      "cell_type": "markdown",
      "metadata": {},
      "source": [
        "### Step 3: Create Trace for Line"
      ]
    },
    {
      "cell_type": "markdown",
      "metadata": {},
      "source": [
        "Create a trace using `go.Scatter3d` to represent the line connecting the two points."
      ]
    },
    {
      "cell_type": "code",
      "execution_count": null,
      "metadata": {},
      "outputs": [],
      "source": [
        "# Trace for the line\n",
        "line_trace = go.Scatter3d(\n",
        "    x=[point_A[0], point_B[0]], \n",
        "    y=[point_A[1], point_B[1]], \n",
        "    z=[point_A[2], point_B[2]], \n",
        "    mode='lines',\n",
        "    line=dict(color='green', width=2)\n",
        ")"
      ]
    },
    {
      "cell_type": "markdown",
      "metadata": {},
      "source": [
        "We are using `mode=lines` here to make this plot as line. You can see that we have defined the coordinates in `x=[point_A[0], point_B[0]]` format to specify the starting and end point of the line in $x$ axis."
      ]
    },
    {
      "cell_type": "markdown",
      "metadata": {},
      "source": [
        "### Step 4: Define the Layout"
      ]
    },
    {
      "cell_type": "markdown",
      "metadata": {},
      "source": [
        "Set up the layout for your 3D plot, including titles and axis ranges."
      ]
    },
    {
      "cell_type": "code",
      "execution_count": null,
      "metadata": {},
      "outputs": [],
      "source": [
        "layout = go.Layout(\n",
        "    title=\"Line in 3D Space\",\n",
        "    scene=dict(\n",
        "        xaxis=dict(title='X Axis', range=[0, 10]),\n",
        "        yaxis=dict(title='Y Axis', range=[0, 10]),\n",
        "        zaxis=dict(title='Z Axis', range=[0, 10])\n",
        "    )\n",
        ")"
      ]
    },
    {
      "cell_type": "markdown",
      "metadata": {},
      "source": [
        "### Step 5: Combine the Trace and Layout"
      ]
    },
    {
      "cell_type": "markdown",
      "metadata": {},
      "source": [
        "Create the figure with the line trace and the defined layout. (Rotate the plot to see the line trace)"
      ]
    },
    {
      "cell_type": "code",
      "execution_count": null,
      "metadata": {},
      "outputs": [],
      "source": [
        "fig = go.Figure(data=[line_trace], layout=layout)\n",
        "fig.show()"
      ]
    },
    {
      "cell_type": "markdown",
      "metadata": {},
      "source": [
        "You have now learned how to create a simple line between two points in 3D space using Plotly. This foundational skill is crucial for more complex visualizations in 3D coordinate systems."
      ]
    },
    {
      "cell_type": "markdown",
      "metadata": {},
      "source": [
        "## Connect Particle and Origin"
      ]
    },
    {
      "cell_type": "markdown",
      "metadata": {},
      "source": [
        "Now that you understand how to create a line in 3D space, let's combine this knowledge with the previous tutorial on plotting a particle and the origin. We'll connect the particle to the origin with a line, enhancing our 3D visualization."
      ]
    },
    {
      "cell_type": "markdown",
      "metadata": {},
      "source": [
        "### Step 1: Traces for Origin and Particle"
      ]
    },
    {
      "cell_type": "markdown",
      "metadata": {},
      "source": [
        "We will use the `origin_trace` and `particle_trace` from the previous tutorial."
      ]
    },
    {
      "cell_type": "code",
      "execution_count": null,
      "metadata": {},
      "outputs": [],
      "source": [
        "# Trace for the particle\n",
        "particle_trace = go.Scatter3d(\n",
        "    x=[1], y=[2], z=[3],\n",
        "    mode='markers',\n",
        "    marker=dict(size=10, color='red'),\n",
        "    name='Particle'\n",
        ")\n",
        "\n",
        "# Trace for the origin\n",
        "origin_trace = go.Scatter3d(\n",
        "    x=[0], y=[0], z=[0],\n",
        "    mode='markers+text',\n",
        "    marker=dict(size=5, color='blue'),\n",
        "    name='Origin',\n",
        "    text=[\"O\"],  # Text labels for point\n",
        "    textposition=\"top center\",  # Position of the text\n",
        "    showlegend=False\n",
        ")"
      ]
    },
    {
      "cell_type": "markdown",
      "metadata": {},
      "source": [
        "### Step 2: Create a Trace for the Connecting Line"
      ]
    },
    {
      "cell_type": "code",
      "execution_count": null,
      "metadata": {},
      "outputs": [],
      "source": [
        "# Coordinates of the origin and the particle\n",
        "origin = [0, 0, 0]\n",
        "particle = [1, 2, 3]\n",
        "\n",
        "# Trace for the connecting line\n",
        "connecting_line_trace = go.Scatter3d(\n",
        "    x=[origin[0], particle[0]], \n",
        "    y=[origin[1], particle[1]], \n",
        "    z=[origin[2], particle[2]], \n",
        "    mode='lines',\n",
        "    line=dict(color='green', width=2),\n",
        "    name='OP'\n",
        ")"
      ]
    },
    {
      "cell_type": "markdown",
      "metadata": {},
      "source": [
        "### Step 3: Define the Combined Layout"
      ]
    },
    {
      "cell_type": "code",
      "execution_count": null,
      "metadata": {},
      "outputs": [],
      "source": [
        "combined_layout = go.Layout(\n",
        "    title=\"Particle, Origin, and Connecting Line in 3D Space\",\n",
        "    scene=dict(\n",
        "        xaxis=dict(title='X Axis', range=[-5, 5]),\n",
        "        yaxis=dict(title='Y Axis', range=[-5, 5]),\n",
        "        zaxis=dict(title='Z Axis', range=[-5, 5])\n",
        "    )\n",
        ")"
      ]
    },
    {
      "cell_type": "markdown",
      "metadata": {},
      "source": [
        "### Step 4: Combine All Traces and Layout"
      ]
    },
    {
      "cell_type": "code",
      "execution_count": null,
      "metadata": {},
      "outputs": [],
      "source": [
        "fig = go.Figure(data=[origin_trace, particle_trace, connecting_line_trace], layout=combined_layout)\n",
        "fig.show()"
      ]
    },
    {
      "cell_type": "markdown",
      "metadata": {},
      "source": [
        "This tutorial has shown you how to combine different elements in a 3D Plotly visualization. By connecting a particle to the origin with a line, you can create more informative and visually appealing plots."
      ]
    }
  ],
  "metadata": {
    "kernelspec": {
      "display_name": "base",
      "language": "python",
      "name": "python3"
    },
    "language_info": {
      "codemirror_mode": {
        "name": "ipython",
        "version": 3
      },
      "file_extension": ".py",
      "mimetype": "text/x-python",
      "name": "python",
      "nbconvert_exporter": "python",
      "pygments_lexer": "ipython3",
      "version": "3.9.12"
    }
  },
  "nbformat": 4,
  "nbformat_minor": 2
}
