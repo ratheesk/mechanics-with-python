{
  "cells": [
    {
      "cell_type": "code",
      "execution_count": null,
      "metadata": {
        "nbsphinx": "hidden"
      },
      "outputs": [],
      "source": [
        "# This is included for documentation purpose, not a part of this tutorial\n",
        "import plotly.io as pio\n",
        "pio.renderers.default = \"plotly_mimetype+notebook\""
      ]
    },
    {
      "cell_type": "markdown",
      "metadata": {},
      "source": [
        "# Animate a Particle"
      ]
    },
    {
      "cell_type": "markdown",
      "metadata": {},
      "source": [
        "In this tutorial, we will visualize the motion of a particle moving towards the origin in a 3D coordinate system using Plotly and NumPy in Python. "
      ]
    },
    {
      "cell_type": "markdown",
      "metadata": {},
      "source": [
        "## Simple Animation"
      ]
    },
    {
      "cell_type": "markdown",
      "metadata": {},
      "source": [
        "We'll start by demonstrating a simple example of animating a point in 3D space using Plotly and then adapt this concept to animate a particle moving from its initial position towards the origin."
      ]
    },
    {
      "cell_type": "markdown",
      "metadata": {},
      "source": [
        "### Step 1: Setting Up the Environment"
      ]
    },
    {
      "cell_type": "markdown",
      "metadata": {},
      "source": [
        "Import necessary libraries: `plotly.graph_objects` for plotting and `numpy` for numerical operations."
      ]
    },
    {
      "cell_type": "code",
      "execution_count": null,
      "metadata": {},
      "outputs": [],
      "source": [
        "import plotly.graph_objects as go\n",
        "import numpy as np"
      ]
    },
    {
      "cell_type": "markdown",
      "metadata": {},
      "source": [
        "### Step 2: Defining the Path"
      ]
    },
    {
      "cell_type": "code",
      "execution_count": null,
      "metadata": {},
      "outputs": [],
      "source": [
        "# Define a simple path in 3D space\n",
        "path = np.array([[0, 3, 1], [1, 4, 2], [2, 5, 3], [3, 6, 4]])\n",
        "steps = len(path)\n",
        "steps"
      ]
    },
    {
      "cell_type": "markdown",
      "metadata": {},
      "source": [
        "Here, `path` is a NumPy array representing a sequence of points in 3D space. `steps` is the number of points along the path."
      ]
    },
    {
      "cell_type": "markdown",
      "metadata": {},
      "source": [
        "### Step 3: Initial Position of the Particle"
      ]
    },
    {
      "cell_type": "markdown",
      "metadata": {},
      "source": [
        "`x=[path[0, 0]]`, `y=[path[0, 1]]`, `z=[path[0, 2]]` set the initial position of the particle using the first (`0th`) index of the `path` array, which contains its $x$, $y$, and $z$ coordinates."
      ]
    },
    {
      "cell_type": "code",
      "execution_count": null,
      "metadata": {},
      "outputs": [],
      "source": [
        "particle_trace = go.Scatter3d(\n",
        "    x=[path[0, 0]], y=[path[0, 1]], z=[path[0, 2]],\n",
        "    mode='markers',\n",
        "    marker=dict(size=7, color='red')\n",
        ")"
      ]
    },
    {
      "cell_type": "markdown",
      "metadata": {},
      "source": [
        "### Step 4: Layout Configuration"
      ]
    },
    {
      "cell_type": "markdown",
      "metadata": {},
      "source": [
        "`updatemenus` creates an interactive button in the plot. It's configured to start the animation when clicked."
      ]
    },
    {
      "cell_type": "code",
      "execution_count": null,
      "metadata": {},
      "outputs": [],
      "source": [
        "layout = go.Layout(\n",
        "    title=\"Particle Moving Towards the Origin\",\n",
        "    scene=dict(\n",
        "        xaxis=dict(title='X Axis', range=[-4, 7]),\n",
        "        yaxis=dict(title='Y Axis', range=[-4, 7]),\n",
        "        zaxis=dict(title='Z Axis', range=[-4, 7])\n",
        "    ),\n",
        "    updatemenus=[dict(type=\"buttons\", showactive=False,\n",
        "                      y=1, x=0.8, xanchor='left', yanchor='bottom',\n",
        "                      pad=dict(t=45, r=10),\n",
        "                      buttons=[dict(label='Play',\n",
        "                                    method='animate',\n",
        "                                    args=[None, dict(frame=dict(duration=100, redraw=True), \n",
        "                                                     fromcurrent=True)])])]\n",
        ")"
      ]
    },
    {
      "cell_type": "markdown",
      "metadata": {},
      "source": [
        "<div class=\"alert alert-info\">\n",
        "\n",
        "Note\n",
        "\n",
        "Make sure that you are setting a right axis range to keep the particle inside the plot. You can leave it as defalut but you may not able to see tha animation with single particle because of the automated changing of axis range. It works well with path added animations\n",
        "\n",
        "</div>"
      ]
    },
    {
      "cell_type": "markdown",
      "metadata": {},
      "source": [
        "### Step 5: Frames for the Animation"
      ]
    },
    {
      "cell_type": "markdown",
      "metadata": {},
      "source": [
        "This list comprehension creates a series of `go.Frame objects`, each representing a frame in the animation. Each frame updates the position of the particle to the `k`th step along the path. `range(steps)` iterates over the number of steps defined in the path, creating a frame for each step."
      ]
    },
    {
      "cell_type": "code",
      "execution_count": null,
      "metadata": {},
      "outputs": [],
      "source": [
        "frames = [go.Frame(data=[go.Scatter3d(\n",
        "    x=[path[k, 0]], y=[path[k, 1]], z=[path[k, 2]],\n",
        "    mode='markers',\n",
        "    marker=dict(size=7, color='red')\n",
        ")]) for k in range(steps)]"
      ]
    },
    {
      "cell_type": "markdown",
      "metadata": {},
      "source": [
        "### Step 6: Combining Everything"
      ]
    },
    {
      "cell_type": "markdown",
      "metadata": {},
      "source": [
        "Hit the play button to watch the animation. (Ratate the plot to watch it detaily)"
      ]
    },
    {
      "cell_type": "code",
      "execution_count": null,
      "metadata": {},
      "outputs": [],
      "source": [
        "fig = go.Figure(data=[particle_trace], layout=layout, frames=frames)\n",
        "fig.show()"
      ]
    },
    {
      "cell_type": "markdown",
      "metadata": {},
      "source": [
        "## Movement Towards the Origin"
      ]
    },
    {
      "cell_type": "markdown",
      "metadata": {},
      "source": [
        "Now, let's adapt the above example to animate a particle moving from an initial position to the origin."
      ]
    },
    {
      "cell_type": "markdown",
      "metadata": {},
      "source": [
        "### Step 1: Get the traces"
      ]
    },
    {
      "cell_type": "code",
      "execution_count": null,
      "metadata": {},
      "outputs": [],
      "source": [
        "# Coordinates of the origin and the particle\n",
        "origin = [0, 0, 0]\n",
        "particle = [1, 2, 3]\n",
        "\n",
        "# Trace for the particle\n",
        "particle_trace = go.Scatter3d(\n",
        "    x=[1], y=[2], z=[3],\n",
        "    mode='markers',\n",
        "    marker=dict(size=10, color='red'),\n",
        "    name='Particle'\n",
        ")\n",
        "\n",
        "# Trace for the origin\n",
        "origin_trace = go.Scatter3d(\n",
        "    x=[0], y=[0], z=[0],\n",
        "    mode='markers+text',\n",
        "    marker=dict(size=5, color='blue'),\n",
        "    name='Origin',\n",
        "    text=[\"O\"],  # Text labels for point\n",
        "    textposition=\"top center\",  # Position of the text\n",
        "    showlegend=False\n",
        ")\n",
        "\n",
        "# Trace for the connecting line\n",
        "connecting_line_trace = go.Scatter3d(\n",
        "    x=[origin[0], particle[0]], \n",
        "    y=[origin[1], particle[1]], \n",
        "    z=[origin[2], particle[2]], \n",
        "    mode='lines',\n",
        "    line=dict(color='green', width=2),\n",
        "    name='Path'\n",
        ")"
      ]
    },
    {
      "cell_type": "markdown",
      "metadata": {},
      "source": [
        "### Step 2: Modify the Path"
      ]
    },
    {
      "cell_type": "markdown",
      "metadata": {},
      "source": [
        "The `path` now linearly interpolates between the starting point and the origin."
      ]
    },
    {
      "cell_type": "code",
      "execution_count": null,
      "metadata": {},
      "outputs": [],
      "source": [
        "# Define the path from a starting point to the origin\n",
        "start_point = [3, 3, 3]  # Starting position of the particle\n",
        "path = np.linspace(particle, origin, num=steps)\n",
        "path"
      ]
    },
    {
      "cell_type": "markdown",
      "metadata": {},
      "source": [
        "### Step 3: Frames for the Animation"
      ]
    },
    {
      "cell_type": "code",
      "execution_count": null,
      "metadata": {},
      "outputs": [],
      "source": [
        "frames = [go.Frame(data=[go.Scatter3d(\n",
        "    x=[path[k, 0]], y=[path[k, 1]], z=[path[k, 2]],\n",
        "    mode='markers',\n",
        "    marker=dict(size=7, color='red')\n",
        ")]) for k in range(steps)]"
      ]
    },
    {
      "cell_type": "markdown",
      "metadata": {},
      "source": [
        "### Step 4: Combine All"
      ]
    },
    {
      "cell_type": "markdown",
      "metadata": {},
      "source": [
        "Hit the play button to see the animation"
      ]
    },
    {
      "cell_type": "markdown",
      "metadata": {},
      "source": [
        "<div class=\"alert alert-warning\">\n",
        "\n",
        "Note\n",
        "\n",
        "Make sure that you are putting the animating traces before of all static traces in `data` list to keep static traces on the plot. \n",
        "\n",
        "</div>"
      ]
    },
    {
      "cell_type": "code",
      "execution_count": null,
      "metadata": {},
      "outputs": [],
      "source": [
        "fig = go.Figure(data=[particle_trace, origin_trace, connecting_line_trace], layout=layout, frames=frames)\n",
        "fig.show()"
      ]
    },
    {
      "cell_type": "markdown",
      "metadata": {},
      "source": [
        "By following these steps, you can create a basic animation in Plotly and then adapt it to show a particle moving towards the origin, demonstrating the flexibility and power of Plotly for dynamic visualizations."
      ]
    }
  ],
  "metadata": {
    "kernelspec": {
      "display_name": "base",
      "language": "python",
      "name": "python3"
    },
    "language_info": {
      "codemirror_mode": {
        "name": "ipython",
        "version": 3
      },
      "file_extension": ".py",
      "mimetype": "text/x-python",
      "name": "python",
      "nbconvert_exporter": "python",
      "pygments_lexer": "ipython3",
      "version": "3.9.12"
    }
  },
  "nbformat": 4,
  "nbformat_minor": 2
}
